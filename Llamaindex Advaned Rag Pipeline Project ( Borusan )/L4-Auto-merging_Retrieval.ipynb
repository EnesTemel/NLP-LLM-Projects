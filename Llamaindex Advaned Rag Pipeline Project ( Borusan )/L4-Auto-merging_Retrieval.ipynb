{
 "cells": [
  {
   "cell_type": "markdown",
   "id": "cd7996c5-91eb-41de-ac6a-0b22462b76f1",
   "metadata": {},
   "source": [
    "# Lesson 4: Auto-merging Retrieval"
   ]
  },
  {
   "cell_type": "code",
   "execution_count": 1,
   "id": "e8f0928d-4505-437c-9ee8-bada425a5e22",
   "metadata": {
    "height": 47
   },
   "outputs": [],
   "source": [
    "import warnings\n",
    "warnings.filterwarnings('ignore')"
   ]
  },
  {
   "cell_type": "code",
   "execution_count": 2,
   "id": "20373372-03c5-41e9-8bc9-dfa6ce35d666",
   "metadata": {
    "height": 98
   },
   "outputs": [
    {
     "name": "stdout",
     "output_type": "stream",
     "text": [
      "✅ In Answer Relevance, input prompt will be set to __record__.main_input or `Select.RecordInput` .\n",
      "✅ In Answer Relevance, input response will be set to __record__.main_output or `Select.RecordOutput` .\n",
      "✅ In Context Relevance, input prompt will be set to __record__.main_input or `Select.RecordInput` .\n",
      "✅ In Context Relevance, input response will be set to __record__.app.query.rets.source_nodes[:].node.text .\n",
      "✅ In Groundedness, input source will be set to __record__.app.query.rets.source_nodes[:].node.text .\n",
      "✅ In Groundedness, input statement will be set to __record__.main_output or `Select.RecordOutput` .\n"
     ]
    }
   ],
   "source": [
    "import utils\n",
    "\n",
    "import os\n",
    "import openai\n",
    "openai.api_key = utils.get_openai_api_key()"
   ]
  },
  {
   "cell_type": "code",
   "execution_count": 3,
   "id": "f58fc195-9619-4088-831e-66b3cc6e0425",
   "metadata": {
    "height": 98,
    "tags": []
   },
   "outputs": [],
   "source": [
    "from llama_index import SimpleDirectoryReader\n",
    "\n",
    "documents = SimpleDirectoryReader(\n",
    "    input_files=[\"Main_Data.pdf\"]\n",
    ").load_data()"
   ]
  },
  {
   "cell_type": "code",
   "execution_count": 4,
   "id": "89ad555b-48d4-441b-b5f3-79a685b4c3f2",
   "metadata": {
    "height": 81,
    "tags": []
   },
   "outputs": [
    {
     "name": "stdout",
     "output_type": "stream",
     "text": [
      "<class 'list'> \n",
      "\n",
      "280 \n",
      "\n",
      "<class 'llama_index.schema.Document'>\n",
      "Doc ID: 755034d6-22b2-46d8-9569-96b825dc28f5\n",
      "Text: Title: \" Car Reviews\"   Subject: “ Youtube Reviews and Detailed\n",
      "analysis of different  car models\"     Car Model  :  2023 Mini\n",
      "Countryman   Review :    car enthusiasts we've all had our fair share\n",
      "of positive and negative experiences with car enthusiasts  that's the\n",
      "thing with owners they're always passionate about what they drive and\n",
      "and someti...\n"
     ]
    }
   ],
   "source": [
    "print(type(documents), \"\\n\")\n",
    "print(len(documents), \"\\n\")\n",
    "print(type(documents[0]))\n",
    "print(documents[0])"
   ]
  },
  {
   "cell_type": "markdown",
   "id": "0c143850-72c6-4a09-9fb0-a216108314c0",
   "metadata": {},
   "source": [
    "## Auto-merging retrieval setup"
   ]
  },
  {
   "cell_type": "code",
   "execution_count": 5,
   "id": "8926348c-a4c5-471b-99ed-e6bf170f1fe1",
   "metadata": {
    "height": 64,
    "tags": []
   },
   "outputs": [],
   "source": [
    "from llama_index import Document\n",
    "\n",
    "document = Document(text=\"\\n\\n\".join([doc.text for doc in documents]))"
   ]
  },
  {
   "cell_type": "code",
   "execution_count": 6,
   "id": "202ccfb5-cf94-48a4-b23b-8c5a5ab73ebc",
   "metadata": {
    "height": 115,
    "tags": []
   },
   "outputs": [],
   "source": [
    "from llama_index.node_parser import HierarchicalNodeParser\n",
    "\n",
    "# create the hierarchical node parser w/ default settings\n",
    "node_parser = HierarchicalNodeParser.from_defaults(\n",
    "    chunk_sizes=[2048, 512, 128]\n",
    ")"
   ]
  },
  {
   "cell_type": "code",
   "execution_count": 7,
   "id": "672fd574-6b3c-43ad-9a9a-2db423cadd48",
   "metadata": {
    "height": 30,
    "tags": []
   },
   "outputs": [],
   "source": [
    "nodes = node_parser.get_nodes_from_documents([document])"
   ]
  },
  {
   "cell_type": "code",
   "execution_count": 8,
   "id": "83cfc301-1887-4b1c-a8aa-1fb55e30be78",
   "metadata": {
    "height": 81,
    "tags": []
   },
   "outputs": [
    {
     "name": "stdout",
     "output_type": "stream",
     "text": [
      "to \n",
      "add a untamed edition which that package will add  gray metallic paint with piano black exterior \n",
      "highlights on the s and the hybrid trim inside the funda drive suv receives updated tech sports seats the \n",
      "larger cooper goes against rivals like your mazda cx -30 your volvo xc40 even the honda hrv that's been \n",
      "redesigned but is this one going to be more\n"
     ]
    }
   ],
   "source": [
    "from llama_index.node_parser import get_leaf_nodes\n",
    "\n",
    "leaf_nodes = get_leaf_nodes(nodes)\n",
    "print(leaf_nodes[30].text)"
   ]
  },
  {
   "cell_type": "code",
   "execution_count": 9,
   "id": "0703abeb-3bcc-4dd6-8010-3bcf95d8b483",
   "metadata": {
    "height": 81,
    "tags": []
   },
   "outputs": [
    {
     "name": "stdout",
     "output_type": "stream",
     "text": [
      "to unstick you and it'll also kind of just balance out between the front and rear axle the \n",
      "power delivery so it gives you the best possible chance of tackling things like ice and snow of course I \n",
      "haven't been able to ha ve a chance to actually tell how this works but you can tell that by the way it \n",
      "sticks around corners the way that it handles then it will be pretty robust but of course you can't go \n",
      "comparing it to something like a Land Rover Defender despite what the nam e might suggest and the \n",
      "addition of all four the mini Countryman Untamed isn't exactly an off -roader but then again anyone that \n",
      "knows their minis knows that these cars were not really designed for that they're designed for \n",
      "Adventures perhaps more adventure s in a city and it's really good at doing that I've had a fantastic time \n",
      "with the mini Countryman untamed and I think that interior is really really very special it's made me fall \n",
      "in love with this car I think I've said that three times now but it's true t he interior really does make you \n",
      "feel like it's worth spending that extra money over some of its Rivals which are a little bit more boring \n",
      "on the inside but let me know what do you think in the mini Countryman Untamed Edition should they \n",
      "have made this be able to scale rocks and go over mountains yeah it's really not necessary is it but if you \n",
      "think it is let me know in the comments down below if you've enjoyed this video as ever please go \n",
      "ahead and give it a big thumbs up and if you want to see more videos  like this then please do go ahead \n",
      "and hit the Subscribe button until next time bye [Music] thank you [Music]  \n",
      " \n",
      "Car Model : 2023 Mini Countryman  \n",
      " \n",
      "Review :   \n",
      "the fun to drive spirit of suvs are now here many of wesley chapel has given us the 2023 mini cooper s \n",
      "countrymen in your midnight black 2 signature trim all new design was last year this year it's going to \n",
      "add a untamed edition which that package will add  gray metallic paint with piano black exterior \n",
      "highlights on the s and the hybrid trim inside the funda drive suv receives updated tech sports seats the \n",
      "larger cooper goes against rivals like your mazda cx -30 your volvo xc40 even the honda hrv that's been \n",
      "redesigned but is this one going to be more\n"
     ]
    }
   ],
   "source": [
    "nodes_by_id = {node.node_id: node for node in nodes}\n",
    "\n",
    "parent_node = nodes_by_id[leaf_nodes[30].parent_node.node_id]\n",
    "print(parent_node.text)"
   ]
  },
  {
   "cell_type": "markdown",
   "id": "b6bafef6-02f6-4029-a5eb-dfbc4369da56",
   "metadata": {},
   "source": [
    "### Building the index"
   ]
  },
  {
   "cell_type": "code",
   "execution_count": 10,
   "id": "6b0350cd-392e-45e9-8664-ff22a39a8bcd",
   "metadata": {
    "height": 64,
    "tags": []
   },
   "outputs": [],
   "source": [
    "from llama_index.llms import OpenAI\n",
    "\n",
    "llm = OpenAI(model=\"gpt-3.5-turbo\", temperature=0.1)"
   ]
  },
  {
   "cell_type": "code",
   "execution_count": 11,
   "id": "03213595-6581-47f5-90a7-cfa381d42872",
   "metadata": {
    "height": 132,
    "tags": []
   },
   "outputs": [],
   "source": [
    "from llama_index import ServiceContext\n",
    "\n",
    "auto_merging_context = ServiceContext.from_defaults(\n",
    "    llm=llm,\n",
    "    embed_model=\"local:BAAI/bge-small-en-v1.5\",\n",
    "    node_parser=node_parser,\n",
    ")"
   ]
  },
  {
   "cell_type": "code",
   "execution_count": 12,
   "id": "a0f84886-e1aa-40f1-a812-4b6f8d0204af",
   "metadata": {
    "height": 200,
    "tags": []
   },
   "outputs": [],
   "source": [
    "from llama_index import VectorStoreIndex, StorageContext\n",
    "\n",
    "storage_context = StorageContext.from_defaults()\n",
    "storage_context.docstore.add_documents(nodes)\n",
    "\n",
    "automerging_index = VectorStoreIndex(\n",
    "    leaf_nodes, storage_context=storage_context, service_context=auto_merging_context\n",
    ")\n",
    "\n",
    "automerging_index.storage_context.persist(persist_dir=\"./merging_index\")"
   ]
  },
  {
   "cell_type": "code",
   "execution_count": 13,
   "id": "4a8ddbff-6fdd-448d-9ce8-53ed782a6d66",
   "metadata": {
    "height": 455,
    "tags": []
   },
   "outputs": [],
   "source": [
    "# This block of code is optional to check\n",
    "# if an index file exist, then it will load it\n",
    "# if not, it will rebuild it\n",
    "\n",
    "import os\n",
    "from llama_index import VectorStoreIndex, StorageContext, load_index_from_storage\n",
    "from llama_index import load_index_from_storage\n",
    "\n",
    "if not os.path.exists(\"./merging_index\"):\n",
    "    storage_context = StorageContext.from_defaults()\n",
    "    storage_context.docstore.add_documents(nodes)\n",
    "\n",
    "    automerging_index = VectorStoreIndex(\n",
    "            leaf_nodes,\n",
    "            storage_context=storage_context,\n",
    "            service_context=auto_merging_context\n",
    "        )\n",
    "\n",
    "    automerging_index.storage_context.persist(persist_dir=\"./merging_index\")\n",
    "else:\n",
    "    automerging_index = load_index_from_storage(\n",
    "        StorageContext.from_defaults(persist_dir=\"./merging_index\"),\n",
    "        service_context=auto_merging_context\n",
    "    )\n"
   ]
  },
  {
   "cell_type": "markdown",
   "id": "2710c689-0596-45c5-a63f-1e8bb9481846",
   "metadata": {},
   "source": [
    "### Defining the retriever and running the query engine"
   ]
  },
  {
   "cell_type": "code",
   "execution_count": 14,
   "id": "d443d25a-2a5e-425c-9cca-4bf8503c6db3",
   "metadata": {
    "height": 353,
    "tags": []
   },
   "outputs": [],
   "source": [
    "from llama_index.indices.postprocessor import SentenceTransformerRerank\n",
    "from llama_index.retrievers import AutoMergingRetriever\n",
    "from llama_index.query_engine import RetrieverQueryEngine\n",
    "\n",
    "automerging_retriever = automerging_index.as_retriever(\n",
    "    similarity_top_k=25\n",
    ")\n",
    "\n",
    "retriever = AutoMergingRetriever(\n",
    "    automerging_retriever, \n",
    "    automerging_index.storage_context, \n",
    "    verbose=True\n",
    ")\n",
    "\n",
    "rerank = SentenceTransformerRerank(top_n=5, model=\"BAAI/bge-reranker-base\")\n",
    "\n",
    "auto_merging_engine = RetrieverQueryEngine.from_args(\n",
    "    automerging_retriever, node_postprocessors=[rerank]\n",
    ")"
   ]
  },
  {
   "cell_type": "code",
   "execution_count": 15,
   "id": "c458d0ac-24a0-430b-acc4-c05252134527",
   "metadata": {
    "height": 64,
    "tags": []
   },
   "outputs": [],
   "source": [
    "auto_merging_response = auto_merging_engine.query(\n",
    "    \"What are some unique features of Jaguar cars?\"\n",
    ")"
   ]
  },
  {
   "cell_type": "code",
   "execution_count": 16,
   "id": "569e70b4-daae-4181-a953-7ea37f4620c7",
   "metadata": {
    "height": 64
   },
   "outputs": [
    {
     "data": {
      "text/markdown": [
       "**`Final Response:`** Jaguar cars have unique features such as sleek vents, a dished three-spoke wheel, a tactile gear lever, sophisticated media connectivity, authentic finishes in beautifully formed shapes, a redesigned center console, metal finishing on the gear stick, steering wheel, and door pulls, and a mesh modeled in the shape of the Jaguar heritage logo. Additionally, Jaguar cars have slimmer headlights with a new design, LED running lights, and redesigned taillights."
      ],
      "text/plain": [
       "<IPython.core.display.Markdown object>"
      ]
     },
     "metadata": {},
     "output_type": "display_data"
    }
   ],
   "source": [
    "from llama_index.response.notebook_utils import display_response\n",
    "\n",
    "display_response(auto_merging_response)"
   ]
  },
  {
   "cell_type": "markdown",
   "id": "a841036a-0bb6-4037-920e-ae555748e111",
   "metadata": {},
   "source": [
    "## Putting it all Together"
   ]
  },
  {
   "cell_type": "code",
   "execution_count": 46,
   "id": "8949da64-bc7f-4929-b394-51d11732e62f",
   "metadata": {
    "height": 1101
   },
   "outputs": [],
   "source": [
    "import os\n",
    "\n",
    "from llama_index import (\n",
    "    ServiceContext,\n",
    "    StorageContext,\n",
    "    VectorStoreIndex,\n",
    "    load_index_from_storage,\n",
    ")\n",
    "from llama_index.node_parser import HierarchicalNodeParser\n",
    "from llama_index.node_parser import get_leaf_nodes\n",
    "from llama_index import StorageContext, load_index_from_storage\n",
    "from llama_index.retrievers import AutoMergingRetriever\n",
    "from llama_index.indices.postprocessor import SentenceTransformerRerank\n",
    "from llama_index.query_engine import RetrieverQueryEngine\n",
    "\n",
    "\n",
    "def build_automerging_index(\n",
    "    documents,\n",
    "    llm,\n",
    "    embed_model=\"local:BAAI/bge-small-en-v1.5\",\n",
    "    save_dir=\"merging_index\",\n",
    "    chunk_sizes=None,\n",
    "):\n",
    "    chunk_sizes = chunk_sizes or [2048, 512, 128]\n",
    "    node_parser = HierarchicalNodeParser.from_defaults(chunk_sizes=chunk_sizes)\n",
    "    nodes = node_parser.get_nodes_from_documents(documents)\n",
    "    leaf_nodes = get_leaf_nodes(nodes)\n",
    "    merging_context = ServiceContext.from_defaults(\n",
    "        llm=llm,\n",
    "        embed_model=embed_model,\n",
    "    )\n",
    "    storage_context = StorageContext.from_defaults()\n",
    "    storage_context.docstore.add_documents(nodes)\n",
    "\n",
    "    if not os.path.exists(save_dir):\n",
    "        automerging_index = VectorStoreIndex(\n",
    "            leaf_nodes, storage_context=storage_context, service_context=merging_context\n",
    "        )\n",
    "        automerging_index.storage_context.persist(persist_dir=save_dir)\n",
    "    else:\n",
    "        automerging_index = load_index_from_storage(\n",
    "            StorageContext.from_defaults(persist_dir=save_dir),\n",
    "            service_context=merging_context,\n",
    "        )\n",
    "    return automerging_index\n",
    "\n",
    "\n",
    "def get_automerging_query_engine(\n",
    "    automerging_index,\n",
    "    similarity_top_k=20,\n",
    "    rerank_top_n=10,\n",
    "):\n",
    "    base_retriever = automerging_index.as_retriever(similarity_top_k=similarity_top_k)\n",
    "    retriever = AutoMergingRetriever(\n",
    "        base_retriever, automerging_index.storage_context, verbose=True\n",
    "    )\n",
    "    rerank = SentenceTransformerRerank(\n",
    "        top_n=rerank_top_n, model=\"BAAI/bge-reranker-base\"\n",
    "    )\n",
    "    auto_merging_engine = RetrieverQueryEngine.from_args(\n",
    "        retriever, node_postprocessors=[rerank]\n",
    "    )\n",
    "    return auto_merging_engine"
   ]
  },
  {
   "cell_type": "code",
   "execution_count": 47,
   "id": "b7f52577-2e8e-4fee-ade9-2f5ce96a7a8c",
   "metadata": {
    "height": 149
   },
   "outputs": [],
   "source": [
    "from llama_index.llms import OpenAI\n",
    "\n",
    "index = build_automerging_index(\n",
    "    [document],\n",
    "    llm=OpenAI(model=\"gpt-3.5-turbo\", temperature=0.1),\n",
    "    save_dir=\"./merging_index\",\n",
    ")\n"
   ]
  },
  {
   "cell_type": "code",
   "execution_count": 48,
   "id": "c753885f-bfaf-4ac0-8410-b62f619827c4",
   "metadata": {
    "height": 30
   },
   "outputs": [],
   "source": [
    "query_engine = get_automerging_query_engine(index, similarity_top_k=10)"
   ]
  },
  {
   "cell_type": "markdown",
   "id": "9130e35d-bc09-4e4d-bbd9-61c9d6847110",
   "metadata": {},
   "source": [
    "## TruLens Evaluation"
   ]
  },
  {
   "cell_type": "code",
   "execution_count": 49,
   "id": "cf034319-2f0a-43ac-896b-2aef1762b3bd",
   "metadata": {
    "height": 64
   },
   "outputs": [],
   "source": [
    "from trulens_eval import Tru\n",
    "\n",
    "Tru().reset_database()"
   ]
  },
  {
   "cell_type": "markdown",
   "id": "76e8c8b7-8d47-45cb-94f3-70c2d75c9500",
   "metadata": {},
   "source": [
    "### Two layers"
   ]
  },
  {
   "cell_type": "code",
   "execution_count": 50,
   "id": "6fd32404-2760-420d-b406-61d50c5ae7de",
   "metadata": {
    "height": 132
   },
   "outputs": [],
   "source": [
    "auto_merging_index_0 = build_automerging_index(\n",
    "    documents,\n",
    "    llm=OpenAI(model=\"gpt-3.5-turbo\", temperature=0.1),\n",
    "    embed_model=\"local:BAAI/bge-small-en-v1.5\",\n",
    "    save_dir=\"merging_index_0\",\n",
    "    chunk_sizes=[2048,512,128],\n",
    ")"
   ]
  },
  {
   "cell_type": "code",
   "execution_count": 51,
   "id": "ad319255-b86a-4d05-8dd2-a8fa02d15ed0",
   "metadata": {
    "height": 98
   },
   "outputs": [],
   "source": [
    "auto_merging_engine_0 = get_automerging_query_engine(\n",
    "    auto_merging_index_0,\n",
    "    similarity_top_k=50,\n",
    "    rerank_top_n=10,\n",
    ")"
   ]
  },
  {
   "cell_type": "code",
   "execution_count": 52,
   "id": "c669cee9-7be9-4a4d-8c17-1672bb9c3abf",
   "metadata": {
    "height": 115
   },
   "outputs": [],
   "source": [
    "from utils import get_prebuilt_trulens_recorder\n",
    "\n",
    "tru_recorder = get_prebuilt_trulens_recorder(\n",
    "    auto_merging_engine_0,\n",
    "    app_id ='app_0'\n",
    ")"
   ]
  },
  {
   "cell_type": "code",
   "execution_count": 53,
   "id": "ad216bb7-100e-455f-8c33-aa68b3e42026",
   "metadata": {
    "height": 115
   },
   "outputs": [],
   "source": [
    "eval_questions = []\n",
    "with open('eval_questions.txt', 'r') as file:\n",
    "    for line in file:\n",
    "        # Remove newline character and convert to integer\n",
    "        item = line.strip()\n",
    "        eval_questions.append(item)"
   ]
  },
  {
   "cell_type": "code",
   "execution_count": 54,
   "id": "d471cb1d-be4e-423b-a5a5-f216cbd8c9ff",
   "metadata": {
    "height": 81
   },
   "outputs": [],
   "source": [
    "def run_evals(eval_questions, tru_recorder, query_engine):\n",
    "    for question in eval_questions:\n",
    "        with tru_recorder as recording:\n",
    "            response = query_engine.query(question)"
   ]
  },
  {
   "cell_type": "code",
   "execution_count": 55,
   "id": "eea6f236-fe6a-470f-82b5-1a1e3d2593ce",
   "metadata": {
    "height": 30
   },
   "outputs": [
    {
     "name": "stderr",
     "output_type": "stream",
     "text": [
      "A new object of type <class 'llama_index.query_engine.retriever_query_engine.RetrieverQueryEngine'> at 0x1ed43c71270 is calling an instrumented method <function BaseQueryEngine.query at 0x000001EBF119ADD0>. The path of this call may be incorrect.\n",
      "Guessing path of new object is app based on other object (0x1ebb6338100) using this function.\n",
      "A new object of type <class 'llama_index.query_engine.retriever_query_engine.RetrieverQueryEngine'> at 0x1ed43c71270 is calling an instrumented method <function RetrieverQueryEngine.retrieve at 0x000001EBFA644040>. The path of this call may be incorrect.\n",
      "Guessing path of new object is app based on other object (0x1ebb6338100) using this function.\n",
      "A new object of type <class 'llama_index.retrievers.auto_merging_retriever.AutoMergingRetriever'> at 0x1ed627e4b20 is calling an instrumented method <function BaseRetriever.retrieve at 0x000001EBF119A170>. The path of this call may be incorrect.\n",
      "Guessing path of new object is app.retriever based on other object (0x1ed622802e0) using this function.\n",
      "A new object of type <class 'llama_index.indices.vector_store.retrievers.retriever.VectorIndexRetriever'> at 0x1ed627e43d0 is calling an instrumented method <function BaseRetriever.retrieve at 0x000001EBF119A170>. The path of this call may be incorrect.\n",
      "Guessing path of new object is app.retriever based on other object (0x1ed622802e0) using this function.\n"
     ]
    },
    {
     "name": "stdout",
     "output_type": "stream",
     "text": [
      "> Merging 2 nodes into parent node.\n",
      "> Parent node id: c52cf69c-2c0c-446f-b30f-68924226ed39.\n",
      "> Parent node text: structured properly so overall dashboard design is obviously very attractive you get a heads -up ...\n",
      "\n",
      "> Merging 2 nodes into parent node.\n",
      "> Parent node id: d9f9f79f-0adb-4de8-aad8-ed21031fedee.\n",
      "> Parent node text: and the gearbox and the drivetrain just feel so familiar to me so similar to the clubman but it's...\n",
      "\n",
      "> Merging 2 nodes into parent node.\n",
      "> Parent node id: 4423a71d-0bc9-4f45-83a6-6aea1ff83017.\n",
      "> Parent node text: been basically carried over from BMW the infotainment system is a previous generation of iDrive \n",
      "...\n",
      "\n",
      "> Merging 3 nodes into parent node.\n",
      "> Parent node id: 27c86d16-0357-4cad-9912-7ea79fe826ce.\n",
      "> Parent node text: interior of the mini feels very very open very very spacious which is kind of odd given that thes...\n",
      "\n",
      "> Merging 2 nodes into parent node.\n",
      "> Parent node id: ee315fda-d9ee-4d77-9a63-695302243f32.\n",
      "> Parent node text: to let me use one of their bmw x2s so there it is there's the countryman in question and this is ...\n",
      "\n",
      "> Merging 2 nodes into parent node.\n",
      "> Parent node id: 0e03062f-4c3a-4f71-82e4-83125906fc23.\n",
      "> Parent node text: but i am a fan of some bmws i don't know how i feel about the x2 i really don't know how i feel \n",
      "...\n",
      "\n",
      "> Merging 3 nodes into parent node.\n",
      "> Parent node id: a2b15458-54ff-4bef-8913-b19724a15a36.\n",
      "> Parent node text: fast with shifts only thing is sometimes it doesn't give you the downshift which you're looking f...\n",
      "\n",
      "> Merging 2 nodes into parent node.\n",
      "> Parent node id: 47640b78-78eb-4be5-952a-29acafa71478.\n",
      "> Parent node text: wheel you're like a nimble easy to throw around little package and um you don't want to give up t...\n",
      "\n",
      "> Merging 2 nodes into parent node.\n",
      "> Parent node id: 08420b33-1e16-46b6-b37f-81e31eb6ee05.\n",
      "> Parent node text: same horsepower as a mini so they bumped it up the 228 horsepower on this b46 is actually the \n",
      "sa...\n",
      "\n",
      "> Merging 3 nodes into parent node.\n",
      "> Parent node id: 46b85e57-d3c3-4342-bde9-7703996609cc.\n",
      "> Parent node text: seriousness i think that this thing is is really cool even though it's an suv i would probably bu...\n",
      "\n",
      "> Merging 2 nodes into parent node.\n",
      "> Parent node id: 33bcdd2a-aea6-4dfa-a732-ed4b1d98a388.\n",
      "> Parent node text: be a package only available to either i think current college students or recent college grads an...\n",
      "\n",
      "> Merging 2 nodes into parent node.\n",
      "> Parent node id: 25783423-fd37-49b7-8896-38bd2ea612fd.\n",
      "> Parent node text: having one up front on your hood people some people like that they want to say hey i have a bmw \n",
      "...\n",
      "\n",
      "> Merging 3 nodes into parent node.\n",
      "> Parent node id: 5f9b3a74-af86-4097-8d6b-e73c766efaa6.\n",
      "> Parent node text: an extra charge that could be the reason because i don't see any blind spot assist in this area a...\n",
      "\n",
      "> Merging 2 nodes into parent node.\n",
      "> Parent node id: 71063466-92d2-4771-98dd-8378e666538b.\n",
      "> Parent node text: a heated steering wheel is not available on any trim nor is android auto no android auto are you ...\n",
      "\n",
      "> Merging 2 nodes into parent node.\n",
      "> Parent node id: d3212137-d9a4-4620-b87f-f02055d7f258.\n",
      "> Parent node text: going to expect it to be like fully luxury or see some aluminum here and there and brakes it's no...\n",
      "\n",
      "> Merging 2 nodes into parent node.\n",
      "> Parent node id: 7e050d77-c6da-44ae-a81c-72339f558073.\n",
      "> Parent node text: the same as the x2 m35i i think the mini is still far more fun to drive but i'm gonna have to say...\n",
      "\n"
     ]
    },
    {
     "name": "stderr",
     "output_type": "stream",
     "text": [
      "A new object of type <class 'llama_index.response_synthesizers.compact_and_refine.CompactAndRefine'> at 0x1ed43c72b90 is calling an instrumented method <function CompactAndRefine.get_response at 0x000001EBF2ED8280>. The path of this call may be incorrect.\n",
      "Guessing path of new object is app._response_synthesizer based on other object (0x1ebb6338820) using this function.\n",
      "A new object of type <class 'llama_index.response_synthesizers.compact_and_refine.CompactAndRefine'> at 0x1ed43c72b90 is calling an instrumented method <function Refine.get_response at 0x000001EBF36D0EE0>. The path of this call may be incorrect.\n",
      "Guessing path of new object is app._response_synthesizer based on other object (0x1ebb6338820) using this function.\n",
      "A new object of type <class 'llama_index.llm_predictor.base.LLMPredictor'> at 0x1ec04373f40 is calling an instrumented method <function LLMPredictor.predict at 0x000001EBEFFFAB00>. The path of this call may be incorrect.\n",
      "Guessing path of new object is app._response_synthesizer.service_context.llm_predictor based on other object (0x1ed78e8de40) using this function.\n",
      "A new object of type <class 'llama_index.query_engine.retriever_query_engine.RetrieverQueryEngine'> at 0x1ed43c71270 is calling an instrumented method <function RetrieverQueryEngine.retrieve at 0x000001EBFA644040>. The path of this call may be incorrect.\n",
      "Guessing path of new object is app based on other object (0x1ebb6338100) using this function.\n"
     ]
    },
    {
     "name": "stdout",
     "output_type": "stream",
     "text": [
      "> Merging 2 nodes into parent node.\n",
      "> Parent node id: 7e050d77-c6da-44ae-a81c-72339f558073.\n",
      "> Parent node text: the same as the x2 m35i i think the mini is still far more fun to drive but i'm gonna have to say...\n",
      "\n",
      "> Merging 2 nodes into parent node.\n",
      "> Parent node id: e86edd1c-3b94-4dc6-821c-37d428dd67b9.\n",
      "> Parent node text: Title: \"Comprehensive Car Reviews 2023\"  \n",
      "Subject: \"Expert reviews and detailed analysis of 2023 ...\n",
      "\n",
      "> Merging 3 nodes into parent node.\n",
      "> Parent node id: f9f9c32e-f470-4663-9312-cab9c747bd58.\n",
      "> Parent node text: back here as well I am obsessed with this leather interior it's so pretty I love the contrasting ...\n",
      "\n",
      "> Merging 2 nodes into parent node.\n",
      "> Parent node id: ee315fda-d9ee-4d77-9a63-695302243f32.\n",
      "> Parent node text: to let me use one of their bmw x2s so there it is there's the countryman in question and this is ...\n",
      "\n",
      "> Merging 2 nodes into parent node.\n",
      "> Parent node id: 25783423-fd37-49b7-8896-38bd2ea612fd.\n",
      "> Parent node text: having one up front on your hood people some people like that they want to say hey i have a bmw \n",
      "...\n",
      "\n",
      "> Merging 2 nodes into parent node.\n",
      "> Parent node id: 27c86d16-0357-4cad-9912-7ea79fe826ce.\n",
      "> Parent node text: interior of the mini feels very very open very very spacious which is kind of odd given that thes...\n",
      "\n",
      "> Merging 2 nodes into parent node.\n",
      "> Parent node id: d51689ef-add5-4664-b152-422279a02825.\n",
      "> Parent node text: it [Music] minnie has been getting a lot of flack and loyalists are right to say that it's not th...\n",
      "\n",
      "> Merging 2 nodes into parent node.\n",
      "> Parent node id: fed5616d-cb86-4e72-ba60-03d95d10d167.\n",
      "> Parent node text: greenhouse here while i like that low wide kind of long look of the clubman more than this certai...\n",
      "\n",
      "> Merging 2 nodes into parent node.\n",
      "> Parent node id: 331077b9-4f13-437e-90b0-fedc103b4cbc.\n",
      "> Parent node text: Body Text: it's nimble it's quick it's entertaining to drive oh me the mini okay we have the \n",
      "cou...\n",
      "\n",
      "> Merging 2 nodes into parent node.\n",
      "> Parent node id: 5f9b3a74-af86-4097-8d6b-e73c766efaa6.\n",
      "> Parent node text: an extra charge that could be the reason because i don't see any blind spot assist in this area a...\n",
      "\n",
      "> Merging 2 nodes into parent node.\n",
      "> Parent node id: 4423a71d-0bc9-4f45-83a6-6aea1ff83017.\n",
      "> Parent node text: been basically carried over from BMW the infotainment system is a previous generation of iDrive \n",
      "...\n",
      "\n",
      "> Merging 2 nodes into parent node.\n",
      "> Parent node id: 70c4f978-df06-4907-be76-80f11d339cc5.\n",
      "> Parent node text: least 91 is required the total tank capacity is 16.1 gallons foreign [Music] [Applause] [Applause...\n",
      "\n",
      "> Merging 2 nodes into parent node.\n",
      "> Parent node id: 0e03062f-4c3a-4f71-82e4-83125906fc23.\n",
      "> Parent node text: but i am a fan of some bmws i don't know how i feel about the x2 i really don't know how i feel \n",
      "...\n",
      "\n",
      "> Merging 2 nodes into parent node.\n",
      "> Parent node id: 71063466-92d2-4771-98dd-8378e666538b.\n",
      "> Parent node text: a heated steering wheel is not available on any trim nor is android auto no android auto are you ...\n",
      "\n",
      "> Merging 2 nodes into parent node.\n",
      "> Parent node id: 46b85e57-d3c3-4342-bde9-7703996609cc.\n",
      "> Parent node text: seriousness i think that this thing is is really cool even though it's an suv i would probably bu...\n",
      "\n"
     ]
    },
    {
     "name": "stderr",
     "output_type": "stream",
     "text": [
      "A new object of type <class 'llama_index.response_synthesizers.compact_and_refine.CompactAndRefine'> at 0x1ed43c72b90 is calling an instrumented method <function Refine.get_response at 0x000001EBF36D0EE0>. The path of this call may be incorrect.\n",
      "Guessing path of new object is app._response_synthesizer based on other object (0x1ebb6338820) using this function.\n",
      "A new object of type <class 'llama_index.query_engine.retriever_query_engine.RetrieverQueryEngine'> at 0x1ed43c71270 is calling an instrumented method <function RetrieverQueryEngine.retrieve at 0x000001EBFA644040>. The path of this call may be incorrect.\n",
      "Guessing path of new object is app based on other object (0x1ebb6338100) using this function.\n"
     ]
    },
    {
     "name": "stdout",
     "output_type": "stream",
     "text": [
      "> Merging 2 nodes into parent node.\n",
      "> Parent node id: c52cf69c-2c0c-446f-b30f-68924226ed39.\n",
      "> Parent node text: structured properly so overall dashboard design is obviously very attractive you get a heads -up ...\n",
      "\n",
      "> Merging 2 nodes into parent node.\n",
      "> Parent node id: 4b97ad7d-1d0f-42a2-b266-baeae0b9e990.\n",
      "> Parent node text: of interesting features and it has its own unique design especially on the outside and it follows...\n",
      "\n",
      "> Merging 2 nodes into parent node.\n",
      "> Parent node id: 59d69cdb-50cf-4d10-a1b4-764a31f10e2f.\n",
      "> Parent node text: fact it says mini on the inside that is the level of attention to detail and there's a chrome sur...\n",
      "\n",
      "> Merging 2 nodes into parent node.\n",
      "> Parent node id: 86fbfbac-9c05-4114-91b8-e7702d046380.\n",
      "> Parent node text: on the bezel you can even change it to just be a solid color very very nice climate controls are ...\n",
      "\n",
      "> Merging 2 nodes into parent node.\n",
      "> Parent node id: 4503b570-543b-427b-9353-a7794b084a42.\n",
      "> Parent node text: it requires even stronger brakes considering the mad performance on offer from this mini cooper s...\n",
      "\n",
      "> Merging 2 nodes into parent node.\n",
      "> Parent node id: cbdefbea-ae93-4ad1-a043-acd95fb52b85.\n",
      "> Parent node text: brakes highlighted in black is going to surround the front wheel well with 18 inch pair spoke whe...\n",
      "\n",
      "> Merging 3 nodes into parent node.\n",
      "> Parent node id: a2b15458-54ff-4bef-8913-b19724a15a36.\n",
      "> Parent node text: fast with shifts only thing is sometimes it doesn't give you the downshift which you're looking f...\n",
      "\n",
      "> Merging 3 nodes into parent node.\n",
      "> Parent node id: 27c86d16-0357-4cad-9912-7ea79fe826ce.\n",
      "> Parent node text: interior of the mini feels very very open very very spacious which is kind of odd given that thes...\n",
      "\n",
      "> Merging 3 nodes into parent node.\n",
      "> Parent node id: 5f9b3a74-af86-4097-8d6b-e73c766efaa6.\n",
      "> Parent node text: an extra charge that could be the reason because i don't see any blind spot assist in this area a...\n",
      "\n",
      "> Merging 2 nodes into parent node.\n",
      "> Parent node id: 9861b5ae-28c7-47c5-b7d1-5b42d7a987fc.\n",
      "> Parent node text: that's a bit awkward let's fit in a chance in the back of here because they haven't got that much...\n",
      "\n",
      "> Merging 2 nodes into parent node.\n",
      "> Parent node id: e8f00f88-2aaf-42e2-b311-b7a9d4590e8b.\n",
      "> Parent node text: was left unimpressed with this car i loved the styling loved the color loved the interior loved t...\n",
      "\n",
      "> Merging 2 nodes into parent node.\n",
      "> Parent node id: 0e03062f-4c3a-4f71-82e4-83125906fc23.\n",
      "> Parent node text: but i am a fan of some bmws i don't know how i feel about the x2 i really don't know how i feel \n",
      "...\n",
      "\n",
      "> Merging 2 nodes into parent node.\n",
      "> Parent node id: 6730787c-ed5d-43ce-a7ed-42842a330785.\n",
      "> Parent node text: it's just a bit too far back so i'm finding i'm having to have my arm like that which is not comf...\n",
      "\n"
     ]
    },
    {
     "name": "stderr",
     "output_type": "stream",
     "text": [
      "A new object of type <class 'llama_index.response_synthesizers.compact_and_refine.CompactAndRefine'> at 0x1ed43c72b90 is calling an instrumented method <function Refine.get_response at 0x000001EBF36D0EE0>. The path of this call may be incorrect.\n",
      "Guessing path of new object is app._response_synthesizer based on other object (0x1ebb6338820) using this function.\n",
      "A new object of type <class 'llama_index.query_engine.retriever_query_engine.RetrieverQueryEngine'> at 0x1ed43c71270 is calling an instrumented method <function RetrieverQueryEngine.retrieve at 0x000001EBFA644040>. The path of this call may be incorrect.\n",
      "Guessing path of new object is app based on other object (0x1ebb6338100) using this function.\n"
     ]
    },
    {
     "name": "stdout",
     "output_type": "stream",
     "text": [
      "> Merging 3 nodes into parent node.\n",
      "> Parent node id: c52cf69c-2c0c-446f-b30f-68924226ed39.\n",
      "> Parent node text: structured properly so overall dashboard design is obviously very attractive you get a heads -up ...\n",
      "\n",
      "> Merging 3 nodes into parent node.\n",
      "> Parent node id: a2b15458-54ff-4bef-8913-b19724a15a36.\n",
      "> Parent node text: fast with shifts only thing is sometimes it doesn't give you the downshift which you're looking f...\n",
      "\n",
      "> Merging 2 nodes into parent node.\n",
      "> Parent node id: d9f9f79f-0adb-4de8-aad8-ed21031fedee.\n",
      "> Parent node text: and the gearbox and the drivetrain just feel so familiar to me so similar to the clubman but it's...\n",
      "\n",
      "> Merging 2 nodes into parent node.\n",
      "> Parent node id: 4503b570-543b-427b-9353-a7794b084a42.\n",
      "> Parent node text: it requires even stronger brakes considering the mad performance on offer from this mini cooper s...\n",
      "\n",
      "> Merging 2 nodes into parent node.\n",
      "> Parent node id: 27c86d16-0357-4cad-9912-7ea79fe826ce.\n",
      "> Parent node text: interior of the mini feels very very open very very spacious which is kind of odd given that thes...\n",
      "\n",
      "> Merging 2 nodes into parent node.\n",
      "> Parent node id: 6fe75a8e-2497-4e8a-b67c-fa1443d15777.\n",
      "> Parent node text: automatic gearbox now let's see what this mini is like to drive starting off with what it's like ...\n",
      "\n",
      "> Merging 2 nodes into parent node.\n",
      "> Parent node id: 25783423-fd37-49b7-8896-38bd2ea612fd.\n",
      "> Parent node text: having one up front on your hood people some people like that they want to say hey i have a bmw \n",
      "...\n",
      "\n",
      "> Merging 3 nodes into parent node.\n",
      "> Parent node id: 0e03062f-4c3a-4f71-82e4-83125906fc23.\n",
      "> Parent node text: but i am a fan of some bmws i don't know how i feel about the x2 i really don't know how i feel \n",
      "...\n",
      "\n",
      "> Merging 2 nodes into parent node.\n",
      "> Parent node id: 4b97ad7d-1d0f-42a2-b266-baeae0b9e990.\n",
      "> Parent node text: of interesting features and it has its own unique design especially on the outside and it follows...\n",
      "\n",
      "> Merging 3 nodes into parent node.\n",
      "> Parent node id: 71063466-92d2-4771-98dd-8378e666538b.\n",
      "> Parent node text: a heated steering wheel is not available on any trim nor is android auto no android auto are you ...\n",
      "\n",
      "> Merging 2 nodes into parent node.\n",
      "> Parent node id: 5f9b3a74-af86-4097-8d6b-e73c766efaa6.\n",
      "> Parent node text: an extra charge that could be the reason because i don't see any blind spot assist in this area a...\n",
      "\n",
      "> Merging 2 nodes into parent node.\n",
      "> Parent node id: 46b85e57-d3c3-4342-bde9-7703996609cc.\n",
      "> Parent node text: seriousness i think that this thing is is really cool even though it's an suv i would probably bu...\n",
      "\n"
     ]
    },
    {
     "name": "stderr",
     "output_type": "stream",
     "text": [
      "A new object of type <class 'llama_index.response_synthesizers.compact_and_refine.CompactAndRefine'> at 0x1ed43c72b90 is calling an instrumented method <function Refine.get_response at 0x000001EBF36D0EE0>. The path of this call may be incorrect.\n",
      "Guessing path of new object is app._response_synthesizer based on other object (0x1ebb6338820) using this function.\n",
      "A new object of type <class 'llama_index.query_engine.retriever_query_engine.RetrieverQueryEngine'> at 0x1ed43c71270 is calling an instrumented method <function RetrieverQueryEngine.retrieve at 0x000001EBFA644040>. The path of this call may be incorrect.\n",
      "Guessing path of new object is app based on other object (0x1ebb6338100) using this function.\n"
     ]
    },
    {
     "name": "stdout",
     "output_type": "stream",
     "text": [
      "> Merging 3 nodes into parent node.\n",
      "> Parent node id: 27c86d16-0357-4cad-9912-7ea79fe826ce.\n",
      "> Parent node text: interior of the mini feels very very open very very spacious which is kind of odd given that thes...\n",
      "\n",
      "> Merging 2 nodes into parent node.\n",
      "> Parent node id: 9ba28b54-ca88-4e20-b554-4afd0b3f50c2.\n",
      "> Parent node text: in the park i must admit as cute as this car is these door handles are a little weird i'm used to...\n",
      "\n",
      "> Merging 2 nodes into parent node.\n",
      "> Parent node id: 24c000af-b9cb-4a2a-aa16-5103ac446c3f.\n",
      "> Parent node text: economical to have it on or whatever so now we are at a red light my foot goes all the way on the...\n",
      "\n",
      "> Merging 2 nodes into parent node.\n",
      "> Parent node id: 08420b33-1e16-46b6-b37f-81e31eb6ee05.\n",
      "> Parent node text: same horsepower as a mini so they bumped it up the 228 horsepower on this b46 is actually the \n",
      "sa...\n",
      "\n",
      "> Merging 3 nodes into parent node.\n",
      "> Parent node id: c52cf69c-2c0c-446f-b30f-68924226ed39.\n",
      "> Parent node text: structured properly so overall dashboard design is obviously very attractive you get a heads -up ...\n",
      "\n",
      "> Merging 2 nodes into parent node.\n",
      "> Parent node id: 4423a71d-0bc9-4f45-83a6-6aea1ff83017.\n",
      "> Parent node text: been basically carried over from BMW the infotainment system is a previous generation of iDrive \n",
      "...\n",
      "\n",
      "> Merging 2 nodes into parent node.\n",
      "> Parent node id: a2b15458-54ff-4bef-8913-b19724a15a36.\n",
      "> Parent node text: fast with shifts only thing is sometimes it doesn't give you the downshift which you're looking f...\n",
      "\n",
      "> Merging 2 nodes into parent node.\n",
      "> Parent node id: d3212137-d9a4-4620-b87f-f02055d7f258.\n",
      "> Parent node text: going to expect it to be like fully luxury or see some aluminum here and there and brakes it's no...\n",
      "\n",
      "> Merging 3 nodes into parent node.\n",
      "> Parent node id: 885db4b6-a4bd-49af-a04e-ea6cf930183d.\n",
      "> Parent node text: horsepower if you don't have the s or the john cooper works edition engines so 1.5 liter three \n",
      "c...\n",
      "\n",
      "> Merging 2 nodes into parent node.\n",
      "> Parent node id: 0e03062f-4c3a-4f71-82e4-83125906fc23.\n",
      "> Parent node text: but i am a fan of some bmws i don't know how i feel about the x2 i really don't know how i feel \n",
      "...\n",
      "\n",
      "> Merging 3 nodes into parent node.\n",
      "> Parent node id: 6fe75a8e-2497-4e8a-b67c-fa1443d15777.\n",
      "> Parent node text: automatic gearbox now let's see what this mini is like to drive starting off with what it's like ...\n",
      "\n",
      "> Merging 2 nodes into parent node.\n",
      "> Parent node id: 59d69cdb-50cf-4d10-a1b4-764a31f10e2f.\n",
      "> Parent node text: fact it says mini on the inside that is the level of attention to detail and there's a chrome sur...\n",
      "\n",
      "> Merging 2 nodes into parent node.\n",
      "> Parent node id: 5f9b3a74-af86-4097-8d6b-e73c766efaa6.\n",
      "> Parent node text: an extra charge that could be the reason because i don't see any blind spot assist in this area a...\n",
      "\n"
     ]
    },
    {
     "name": "stderr",
     "output_type": "stream",
     "text": [
      "A new object of type <class 'llama_index.response_synthesizers.compact_and_refine.CompactAndRefine'> at 0x1ed43c72b90 is calling an instrumented method <function Refine.get_response at 0x000001EBF36D0EE0>. The path of this call may be incorrect.\n",
      "Guessing path of new object is app._response_synthesizer based on other object (0x1ebb6338820) using this function.\n",
      "A new object of type <class 'llama_index.query_engine.retriever_query_engine.RetrieverQueryEngine'> at 0x1ed43c71270 is calling an instrumented method <function RetrieverQueryEngine.retrieve at 0x000001EBFA644040>. The path of this call may be incorrect.\n",
      "Guessing path of new object is app based on other object (0x1ebb6338100) using this function.\n"
     ]
    },
    {
     "name": "stdout",
     "output_type": "stream",
     "text": [
      "> Merging 3 nodes into parent node.\n",
      "> Parent node id: a2b15458-54ff-4bef-8913-b19724a15a36.\n",
      "> Parent node text: fast with shifts only thing is sometimes it doesn't give you the downshift which you're looking f...\n",
      "\n",
      "> Merging 3 nodes into parent node.\n",
      "> Parent node id: 27c86d16-0357-4cad-9912-7ea79fe826ce.\n",
      "> Parent node text: interior of the mini feels very very open very very spacious which is kind of odd given that thes...\n",
      "\n",
      "> Merging 2 nodes into parent node.\n",
      "> Parent node id: 33bcdd2a-aea6-4dfa-a732-ed4b1d98a388.\n",
      "> Parent node text: be a package only available to either i think current college students or recent college grads an...\n",
      "\n",
      "> Merging 3 nodes into parent node.\n",
      "> Parent node id: 08420b33-1e16-46b6-b37f-81e31eb6ee05.\n",
      "> Parent node text: same horsepower as a mini so they bumped it up the 228 horsepower on this b46 is actually the \n",
      "sa...\n",
      "\n",
      "> Merging 2 nodes into parent node.\n",
      "> Parent node id: 0e03062f-4c3a-4f71-82e4-83125906fc23.\n",
      "> Parent node text: but i am a fan of some bmws i don't know how i feel about the x2 i really don't know how i feel \n",
      "...\n",
      "\n",
      "> Merging 2 nodes into parent node.\n",
      "> Parent node id: 71063466-92d2-4771-98dd-8378e666538b.\n",
      "> Parent node text: a heated steering wheel is not available on any trim nor is android auto no android auto are you ...\n",
      "\n",
      "> Merging 2 nodes into parent node.\n",
      "> Parent node id: 4423a71d-0bc9-4f45-83a6-6aea1ff83017.\n",
      "> Parent node text: been basically carried over from BMW the infotainment system is a previous generation of iDrive \n",
      "...\n",
      "\n",
      "> Merging 3 nodes into parent node.\n",
      "> Parent node id: 7e050d77-c6da-44ae-a81c-72339f558073.\n",
      "> Parent node text: the same as the x2 m35i i think the mini is still far more fun to drive but i'm gonna have to say...\n",
      "\n",
      "> Merging 2 nodes into parent node.\n",
      "> Parent node id: 59d69cdb-50cf-4d10-a1b4-764a31f10e2f.\n",
      "> Parent node text: fact it says mini on the inside that is the level of attention to detail and there's a chrome sur...\n",
      "\n",
      "> Merging 3 nodes into parent node.\n",
      "> Parent node id: c52cf69c-2c0c-446f-b30f-68924226ed39.\n",
      "> Parent node text: structured properly so overall dashboard design is obviously very attractive you get a heads -up ...\n",
      "\n",
      "> Merging 3 nodes into parent node.\n",
      "> Parent node id: 25783423-fd37-49b7-8896-38bd2ea612fd.\n",
      "> Parent node text: having one up front on your hood people some people like that they want to say hey i have a bmw \n",
      "...\n",
      "\n",
      "> Merging 2 nodes into parent node.\n",
      "> Parent node id: d3212137-d9a4-4620-b87f-f02055d7f258.\n",
      "> Parent node text: going to expect it to be like fully luxury or see some aluminum here and there and brakes it's no...\n",
      "\n"
     ]
    },
    {
     "name": "stderr",
     "output_type": "stream",
     "text": [
      "A new object of type <class 'llama_index.response_synthesizers.compact_and_refine.CompactAndRefine'> at 0x1ed43c72b90 is calling an instrumented method <function Refine.get_response at 0x000001EBF36D0EE0>. The path of this call may be incorrect.\n",
      "Guessing path of new object is app._response_synthesizer based on other object (0x1ebb6338820) using this function.\n",
      "A new object of type <class 'llama_index.query_engine.retriever_query_engine.RetrieverQueryEngine'> at 0x1ed43c71270 is calling an instrumented method <function RetrieverQueryEngine.retrieve at 0x000001EBFA644040>. The path of this call may be incorrect.\n",
      "Guessing path of new object is app based on other object (0x1ebb6338100) using this function.\n"
     ]
    },
    {
     "name": "stdout",
     "output_type": "stream",
     "text": [
      "> Merging 2 nodes into parent node.\n",
      "> Parent node id: 7f2bb952-d234-4309-9f93-b32530cc38a2.\n",
      "> Parent node text: Header Level 1: 2021 Mini Countryman  \n",
      "Body Text: hey guys and welcome to petrol ped now imagine ...\n",
      "\n",
      "> Merging 2 nodes into parent node.\n",
      "> Parent node id: f9f9c32e-f470-4663-9312-cab9c747bd58.\n",
      "> Parent node text: back here as well I am obsessed with this leather interior it's so pretty I love the contrasting ...\n",
      "\n",
      "> Merging 3 nodes into parent node.\n",
      "> Parent node id: 27c86d16-0357-4cad-9912-7ea79fe826ce.\n",
      "> Parent node text: interior of the mini feels very very open very very spacious which is kind of odd given that thes...\n",
      "\n",
      "> Merging 2 nodes into parent node.\n",
      "> Parent node id: e86edd1c-3b94-4dc6-821c-37d428dd67b9.\n",
      "> Parent node text: Title: \"Comprehensive Car Reviews 2023\"  \n",
      "Subject: \"Expert reviews and detailed analysis of 2023 ...\n",
      "\n",
      "> Merging 2 nodes into parent node.\n",
      "> Parent node id: ee315fda-d9ee-4d77-9a63-695302243f32.\n",
      "> Parent node text: to let me use one of their bmw x2s so there it is there's the countryman in question and this is ...\n",
      "\n",
      "> Merging 2 nodes into parent node.\n",
      "> Parent node id: 4423a71d-0bc9-4f45-83a6-6aea1ff83017.\n",
      "> Parent node text: been basically carried over from BMW the infotainment system is a previous generation of iDrive \n",
      "...\n",
      "\n",
      "> Merging 2 nodes into parent node.\n",
      "> Parent node id: 08420b33-1e16-46b6-b37f-81e31eb6ee05.\n",
      "> Parent node text: same horsepower as a mini so they bumped it up the 228 horsepower on this b46 is actually the \n",
      "sa...\n",
      "\n",
      "> Merging 2 nodes into parent node.\n",
      "> Parent node id: 0e03062f-4c3a-4f71-82e4-83125906fc23.\n",
      "> Parent node text: but i am a fan of some bmws i don't know how i feel about the x2 i really don't know how i feel \n",
      "...\n",
      "\n",
      "> Merging 2 nodes into parent node.\n",
      "> Parent node id: d51689ef-add5-4664-b152-422279a02825.\n",
      "> Parent node text: it [Music] minnie has been getting a lot of flack and loyalists are right to say that it's not th...\n",
      "\n",
      "> Merging 2 nodes into parent node.\n",
      "> Parent node id: 331077b9-4f13-437e-90b0-fedc103b4cbc.\n",
      "> Parent node text: Body Text: it's nimble it's quick it's entertaining to drive oh me the mini okay we have the \n",
      "cou...\n",
      "\n",
      "> Merging 2 nodes into parent node.\n",
      "> Parent node id: 7e050d77-c6da-44ae-a81c-72339f558073.\n",
      "> Parent node text: the same as the x2 m35i i think the mini is still far more fun to drive but i'm gonna have to say...\n",
      "\n",
      "> Merging 2 nodes into parent node.\n",
      "> Parent node id: 9861b5ae-28c7-47c5-b7d1-5b42d7a987fc.\n",
      "> Parent node text: that's a bit awkward let's fit in a chance in the back of here because they haven't got that much...\n",
      "\n"
     ]
    },
    {
     "name": "stderr",
     "output_type": "stream",
     "text": [
      "A new object of type <class 'llama_index.response_synthesizers.compact_and_refine.CompactAndRefine'> at 0x1ed43c72b90 is calling an instrumented method <function Refine.get_response at 0x000001EBF36D0EE0>. The path of this call may be incorrect.\n",
      "Guessing path of new object is app._response_synthesizer based on other object (0x1ebb6338820) using this function.\n",
      "A new object of type <class 'llama_index.query_engine.retriever_query_engine.RetrieverQueryEngine'> at 0x1ed43c71270 is calling an instrumented method <function RetrieverQueryEngine.retrieve at 0x000001EBFA644040>. The path of this call may be incorrect.\n",
      "Guessing path of new object is app based on other object (0x1ebb6338100) using this function.\n"
     ]
    },
    {
     "name": "stdout",
     "output_type": "stream",
     "text": [
      "> Merging 2 nodes into parent node.\n",
      "> Parent node id: c52cf69c-2c0c-446f-b30f-68924226ed39.\n",
      "> Parent node text: structured properly so overall dashboard design is obviously very attractive you get a heads -up ...\n",
      "\n",
      "> Merging 2 nodes into parent node.\n",
      "> Parent node id: 4503b570-543b-427b-9353-a7794b084a42.\n",
      "> Parent node text: it requires even stronger brakes considering the mad performance on offer from this mini cooper s...\n",
      "\n",
      "> Merging 3 nodes into parent node.\n",
      "> Parent node id: a2b15458-54ff-4bef-8913-b19724a15a36.\n",
      "> Parent node text: fast with shifts only thing is sometimes it doesn't give you the downshift which you're looking f...\n",
      "\n",
      "> Merging 2 nodes into parent node.\n",
      "> Parent node id: 46b85e57-d3c3-4342-bde9-7703996609cc.\n",
      "> Parent node text: seriousness i think that this thing is is really cool even though it's an suv i would probably bu...\n",
      "\n",
      "> Merging 2 nodes into parent node.\n",
      "> Parent node id: 4423a71d-0bc9-4f45-83a6-6aea1ff83017.\n",
      "> Parent node text: been basically carried over from BMW the infotainment system is a previous generation of iDrive \n",
      "...\n",
      "\n",
      "> Merging 2 nodes into parent node.\n",
      "> Parent node id: d9f9f79f-0adb-4de8-aad8-ed21031fedee.\n",
      "> Parent node text: and the gearbox and the drivetrain just feel so familiar to me so similar to the clubman but it's...\n",
      "\n",
      "> Merging 3 nodes into parent node.\n",
      "> Parent node id: 27c86d16-0357-4cad-9912-7ea79fe826ce.\n",
      "> Parent node text: interior of the mini feels very very open very very spacious which is kind of odd given that thes...\n",
      "\n",
      "> Merging 2 nodes into parent node.\n",
      "> Parent node id: ee315fda-d9ee-4d77-9a63-695302243f32.\n",
      "> Parent node text: to let me use one of their bmw x2s so there it is there's the countryman in question and this is ...\n",
      "\n",
      "> Merging 2 nodes into parent node.\n",
      "> Parent node id: 0e03062f-4c3a-4f71-82e4-83125906fc23.\n",
      "> Parent node text: but i am a fan of some bmws i don't know how i feel about the x2 i really don't know how i feel \n",
      "...\n",
      "\n",
      "> Merging 3 nodes into parent node.\n",
      "> Parent node id: 08420b33-1e16-46b6-b37f-81e31eb6ee05.\n",
      "> Parent node text: same horsepower as a mini so they bumped it up the 228 horsepower on this b46 is actually the \n",
      "sa...\n",
      "\n",
      "> Merging 2 nodes into parent node.\n",
      "> Parent node id: 5f9b3a74-af86-4097-8d6b-e73c766efaa6.\n",
      "> Parent node text: an extra charge that could be the reason because i don't see any blind spot assist in this area a...\n",
      "\n",
      "> Merging 2 nodes into parent node.\n",
      "> Parent node id: 6fe75a8e-2497-4e8a-b67c-fa1443d15777.\n",
      "> Parent node text: automatic gearbox now let's see what this mini is like to drive starting off with what it's like ...\n",
      "\n",
      "> Merging 2 nodes into parent node.\n",
      "> Parent node id: 6163b2ae-e350-4c75-b003-64e1ba628962.\n",
      "> Parent node text: dampers so that the handling becomes even better in sport but no no no handling is perfect so no ...\n",
      "\n",
      "> Merging 2 nodes into parent node.\n",
      "> Parent node id: 33bcdd2a-aea6-4dfa-a732-ed4b1d98a388.\n",
      "> Parent node text: be a package only available to either i think current college students or recent college grads an...\n",
      "\n",
      "> Merging 3 nodes into parent node.\n",
      "> Parent node id: 7e050d77-c6da-44ae-a81c-72339f558073.\n",
      "> Parent node text: the same as the x2 m35i i think the mini is still far more fun to drive but i'm gonna have to say...\n",
      "\n",
      "> Merging 2 nodes into parent node.\n",
      "> Parent node id: 47640b78-78eb-4be5-952a-29acafa71478.\n",
      "> Parent node text: wheel you're like a nimble easy to throw around little package and um you don't want to give up t...\n",
      "\n"
     ]
    },
    {
     "name": "stderr",
     "output_type": "stream",
     "text": [
      "A new object of type <class 'llama_index.response_synthesizers.compact_and_refine.CompactAndRefine'> at 0x1ed43c72b90 is calling an instrumented method <function Refine.get_response at 0x000001EBF36D0EE0>. The path of this call may be incorrect.\n",
      "Guessing path of new object is app._response_synthesizer based on other object (0x1ebb6338820) using this function.\n",
      "A new object of type <class 'llama_index.query_engine.retriever_query_engine.RetrieverQueryEngine'> at 0x1ed43c71270 is calling an instrumented method <function RetrieverQueryEngine.retrieve at 0x000001EBFA644040>. The path of this call may be incorrect.\n",
      "Guessing path of new object is app based on other object (0x1ebb6338100) using this function.\n"
     ]
    },
    {
     "name": "stdout",
     "output_type": "stream",
     "text": [
      "> Merging 2 nodes into parent node.\n",
      "> Parent node id: a2b15458-54ff-4bef-8913-b19724a15a36.\n",
      "> Parent node text: fast with shifts only thing is sometimes it doesn't give you the downshift which you're looking f...\n",
      "\n",
      "> Merging 2 nodes into parent node.\n",
      "> Parent node id: d51689ef-add5-4664-b152-422279a02825.\n",
      "> Parent node text: it [Music] minnie has been getting a lot of flack and loyalists are right to say that it's not th...\n",
      "\n",
      "> Merging 2 nodes into parent node.\n",
      "> Parent node id: d9f9f79f-0adb-4de8-aad8-ed21031fedee.\n",
      "> Parent node text: and the gearbox and the drivetrain just feel so familiar to me so similar to the clubman but it's...\n",
      "\n",
      "> Merging 2 nodes into parent node.\n",
      "> Parent node id: 6fe75a8e-2497-4e8a-b67c-fa1443d15777.\n",
      "> Parent node text: automatic gearbox now let's see what this mini is like to drive starting off with what it's like ...\n",
      "\n",
      "> Merging 3 nodes into parent node.\n",
      "> Parent node id: 27c86d16-0357-4cad-9912-7ea79fe826ce.\n",
      "> Parent node text: interior of the mini feels very very open very very spacious which is kind of odd given that thes...\n",
      "\n",
      "> Merging 2 nodes into parent node.\n",
      "> Parent node id: c52cf69c-2c0c-446f-b30f-68924226ed39.\n",
      "> Parent node text: structured properly so overall dashboard design is obviously very attractive you get a heads -up ...\n",
      "\n",
      "> Merging 2 nodes into parent node.\n",
      "> Parent node id: 25783423-fd37-49b7-8896-38bd2ea612fd.\n",
      "> Parent node text: having one up front on your hood people some people like that they want to say hey i have a bmw \n",
      "...\n",
      "\n",
      "> Merging 2 nodes into parent node.\n",
      "> Parent node id: e8f00f88-2aaf-42e2-b311-b7a9d4590e8b.\n",
      "> Parent node text: was left unimpressed with this car i loved the styling loved the color loved the interior loved t...\n",
      "\n",
      "> Merging 2 nodes into parent node.\n",
      "> Parent node id: 0e03062f-4c3a-4f71-82e4-83125906fc23.\n",
      "> Parent node text: but i am a fan of some bmws i don't know how i feel about the x2 i really don't know how i feel \n",
      "...\n",
      "\n",
      "> Merging 2 nodes into parent node.\n",
      "> Parent node id: a8640978-a96b-4974-b4dd-3addee3826c5.\n",
      "> Parent node text: car a little bit you feel sat on it rather than in it everything else in here mentioned the tft s...\n",
      "\n",
      "> Merging 3 nodes into parent node.\n",
      "> Parent node id: 5f9b3a74-af86-4097-8d6b-e73c766efaa6.\n",
      "> Parent node text: an extra charge that could be the reason because i don't see any blind spot assist in this area a...\n",
      "\n",
      "> Merging 2 nodes into parent node.\n",
      "> Parent node id: 59d69cdb-50cf-4d10-a1b4-764a31f10e2f.\n",
      "> Parent node text: fact it says mini on the inside that is the level of attention to detail and there's a chrome sur...\n",
      "\n",
      "> Merging 2 nodes into parent node.\n",
      "> Parent node id: 46b85e57-d3c3-4342-bde9-7703996609cc.\n",
      "> Parent node text: seriousness i think that this thing is is really cool even though it's an suv i would probably bu...\n",
      "\n",
      "> Merging 3 nodes into parent node.\n",
      "> Parent node id: 7e050d77-c6da-44ae-a81c-72339f558073.\n",
      "> Parent node text: the same as the x2 m35i i think the mini is still far more fun to drive but i'm gonna have to say...\n",
      "\n",
      "> Merging 3 nodes into parent node.\n",
      "> Parent node id: 71063466-92d2-4771-98dd-8378e666538b.\n",
      "> Parent node text: a heated steering wheel is not available on any trim nor is android auto no android auto are you ...\n",
      "\n"
     ]
    },
    {
     "name": "stderr",
     "output_type": "stream",
     "text": [
      "A new object of type <class 'llama_index.response_synthesizers.compact_and_refine.CompactAndRefine'> at 0x1ed43c72b90 is calling an instrumented method <function Refine.get_response at 0x000001EBF36D0EE0>. The path of this call may be incorrect.\n",
      "Guessing path of new object is app._response_synthesizer based on other object (0x1ebb6338820) using this function.\n",
      "A new object of type <class 'llama_index.query_engine.retriever_query_engine.RetrieverQueryEngine'> at 0x1ed43c71270 is calling an instrumented method <function RetrieverQueryEngine.retrieve at 0x000001EBFA644040>. The path of this call may be incorrect.\n",
      "Guessing path of new object is app based on other object (0x1ebb6338100) using this function.\n"
     ]
    },
    {
     "name": "stdout",
     "output_type": "stream",
     "text": [
      "> Merging 2 nodes into parent node.\n",
      "> Parent node id: 4423a71d-0bc9-4f45-83a6-6aea1ff83017.\n",
      "> Parent node text: been basically carried over from BMW the infotainment system is a previous generation of iDrive \n",
      "...\n",
      "\n",
      "> Merging 3 nodes into parent node.\n",
      "> Parent node id: f9f9c32e-f470-4663-9312-cab9c747bd58.\n",
      "> Parent node text: back here as well I am obsessed with this leather interior it's so pretty I love the contrasting ...\n",
      "\n",
      "> Merging 2 nodes into parent node.\n",
      "> Parent node id: d9f9f79f-0adb-4de8-aad8-ed21031fedee.\n",
      "> Parent node text: and the gearbox and the drivetrain just feel so familiar to me so similar to the clubman but it's...\n",
      "\n",
      "> Merging 2 nodes into parent node.\n",
      "> Parent node id: 7e050d77-c6da-44ae-a81c-72339f558073.\n",
      "> Parent node text: the same as the x2 m35i i think the mini is still far more fun to drive but i'm gonna have to say...\n",
      "\n",
      "> Merging 2 nodes into parent node.\n",
      "> Parent node id: 47640b78-78eb-4be5-952a-29acafa71478.\n",
      "> Parent node text: wheel you're like a nimble easy to throw around little package and um you don't want to give up t...\n",
      "\n",
      "> Merging 2 nodes into parent node.\n",
      "> Parent node id: e86edd1c-3b94-4dc6-821c-37d428dd67b9.\n",
      "> Parent node text: Title: \"Comprehensive Car Reviews 2023\"  \n",
      "Subject: \"Expert reviews and detailed analysis of 2023 ...\n",
      "\n",
      "> Merging 2 nodes into parent node.\n",
      "> Parent node id: d1f446d1-2945-4d2a-83ff-86edead5cc0f.\n",
      "> Parent node text: area floor cargo Hooks and tension straps not to mention a stainless steel insert on the loading ...\n",
      "\n",
      "> Merging 2 nodes into parent node.\n",
      "> Parent node id: 46b85e57-d3c3-4342-bde9-7703996609cc.\n",
      "> Parent node text: seriousness i think that this thing is is really cool even though it's an suv i would probably bu...\n",
      "\n",
      "> Merging 2 nodes into parent node.\n",
      "> Parent node id: ee315fda-d9ee-4d77-9a63-695302243f32.\n",
      "> Parent node text: to let me use one of their bmw x2s so there it is there's the countryman in question and this is ...\n",
      "\n",
      "> Merging 2 nodes into parent node.\n",
      "> Parent node id: d51689ef-add5-4664-b152-422279a02825.\n",
      "> Parent node text: it [Music] minnie has been getting a lot of flack and loyalists are right to say that it's not th...\n",
      "\n",
      "> Merging 2 nodes into parent node.\n",
      "> Parent node id: 4503b570-543b-427b-9353-a7794b084a42.\n",
      "> Parent node text: it requires even stronger brakes considering the mad performance on offer from this mini cooper s...\n",
      "\n",
      "> Merging 2 nodes into parent node.\n",
      "> Parent node id: fed5616d-cb86-4e72-ba60-03d95d10d167.\n",
      "> Parent node text: greenhouse here while i like that low wide kind of long look of the clubman more than this certai...\n",
      "\n",
      "> Merging 2 nodes into parent node.\n",
      "> Parent node id: 86fbfbac-9c05-4114-91b8-e7702d046380.\n",
      "> Parent node text: on the bezel you can even change it to just be a solid color very very nice climate controls are ...\n",
      "\n",
      "> Merging 2 nodes into parent node.\n",
      "> Parent node id: 1bcacc4d-e43c-4f7d-89ef-52ad3b1029dd.\n",
      "> Parent node text: though that if you're a person who is much older in their days more seasoned shall we put it and ...\n",
      "\n",
      "> Merging 2 nodes into parent node.\n",
      "> Parent node id: e8f00f88-2aaf-42e2-b311-b7a9d4590e8b.\n",
      "> Parent node text: was left unimpressed with this car i loved the styling loved the color loved the interior loved t...\n",
      "\n",
      "> Merging 2 nodes into parent node.\n",
      "> Parent node id: 0e03062f-4c3a-4f71-82e4-83125906fc23.\n",
      "> Parent node text: but i am a fan of some bmws i don't know how i feel about the x2 i really don't know how i feel \n",
      "...\n",
      "\n",
      "> Merging 2 nodes into parent node.\n",
      "> Parent node id: cbdefbea-ae93-4ad1-a043-acd95fb52b85.\n",
      "> Parent node text: brakes highlighted in black is going to surround the front wheel well with 18 inch pair spoke whe...\n",
      "\n"
     ]
    },
    {
     "name": "stderr",
     "output_type": "stream",
     "text": [
      "A new object of type <class 'llama_index.response_synthesizers.compact_and_refine.CompactAndRefine'> at 0x1ed43c72b90 is calling an instrumented method <function Refine.get_response at 0x000001EBF36D0EE0>. The path of this call may be incorrect.\n",
      "Guessing path of new object is app._response_synthesizer based on other object (0x1ebb6338820) using this function.\n"
     ]
    }
   ],
   "source": [
    "run_evals(eval_questions, tru_recorder, auto_merging_engine_0)"
   ]
  },
  {
   "cell_type": "code",
   "execution_count": 58,
   "id": "54cc6991-e743-4e33-9e22-414362a6aae0",
   "metadata": {
    "height": 64
   },
   "outputs": [
    {
     "data": {
      "text/html": [
       "<div>\n",
       "<style scoped>\n",
       "    .dataframe tbody tr th:only-of-type {\n",
       "        vertical-align: middle;\n",
       "    }\n",
       "\n",
       "    .dataframe tbody tr th {\n",
       "        vertical-align: top;\n",
       "    }\n",
       "\n",
       "    .dataframe thead th {\n",
       "        text-align: right;\n",
       "    }\n",
       "</style>\n",
       "<table border=\"1\" class=\"dataframe\">\n",
       "  <thead>\n",
       "    <tr style=\"text-align: right;\">\n",
       "      <th></th>\n",
       "      <th>Context Relevance</th>\n",
       "      <th>Answer Relevance</th>\n",
       "      <th>Groundedness</th>\n",
       "      <th>latency</th>\n",
       "      <th>total_cost</th>\n",
       "    </tr>\n",
       "    <tr>\n",
       "      <th>app_id</th>\n",
       "      <th></th>\n",
       "      <th></th>\n",
       "      <th></th>\n",
       "      <th></th>\n",
       "      <th></th>\n",
       "    </tr>\n",
       "  </thead>\n",
       "  <tbody>\n",
       "    <tr>\n",
       "      <th>app_0</th>\n",
       "      <td>0.061</td>\n",
       "      <td>0.9</td>\n",
       "      <td>0.516667</td>\n",
       "      <td>44.6</td>\n",
       "      <td>0.012955</td>\n",
       "    </tr>\n",
       "  </tbody>\n",
       "</table>\n",
       "</div>"
      ],
      "text/plain": [
       "        Context Relevance  Answer Relevance  Groundedness  latency  total_cost\n",
       "app_id                                                                        \n",
       "app_0               0.061               0.9      0.516667     44.6    0.012955"
      ]
     },
     "execution_count": 58,
     "metadata": {},
     "output_type": "execute_result"
    }
   ],
   "source": [
    "from trulens_eval import Tru\n",
    "\n",
    "Tru().get_leaderboard(app_ids=[])"
   ]
  },
  {
   "cell_type": "code",
   "execution_count": 59,
   "id": "f204af1a-ab10-4e50-b2d6-ba78e2a66e90",
   "metadata": {
    "height": 30
   },
   "outputs": [
    {
     "name": "stdout",
     "output_type": "stream",
     "text": [
      "Starting dashboard ...\n",
      "Config file already exists. Skipping writing process.\n",
      "Credentials file already exists. Skipping writing process.\n",
      "Dashboard already running at path:   Network URL: http://192.168.142.162:8503\n",
      "\n"
     ]
    },
    {
     "data": {
      "text/plain": [
       "<Popen: returncode: None args: ['streamlit', 'run', '--server.headless=True'...>"
      ]
     },
     "execution_count": 59,
     "metadata": {},
     "output_type": "execute_result"
    }
   ],
   "source": [
    "Tru().run_dashboard()"
   ]
  },
  {
   "cell_type": "code",
   "execution_count": null,
   "id": "47f9eba0",
   "metadata": {},
   "outputs": [],
   "source": [
    "gfgf"
   ]
  },
  {
   "cell_type": "markdown",
   "id": "c36721ff-9fe4-43e9-b7ed-435f6d054e29",
   "metadata": {},
   "source": [
    "### Three layers"
   ]
  },
  {
   "cell_type": "code",
   "execution_count": 37,
   "id": "5a575af9-37b8-442a-b6f2-3ed04bf742f1",
   "metadata": {
    "height": 132
   },
   "outputs": [],
   "source": [
    "auto_merging_index_1 = build_automerging_index(\n",
    "    documents,\n",
    "    llm=OpenAI(model=\"gpt-3.5-turbo\", temperature=0.1),\n",
    "    embed_model=\"local:BAAI/bge-small-en-v1.5\",\n",
    "    save_dir=\"merging_index_1\",\n",
    "    chunk_sizes=[2048,512,128],\n",
    ")"
   ]
  },
  {
   "cell_type": "code",
   "execution_count": 38,
   "id": "b0493fb6-3a5b-4d14-81ba-f26d9e4d46b3",
   "metadata": {
    "height": 115
   },
   "outputs": [],
   "source": [
    "auto_merging_engine_1 = get_automerging_query_engine(\n",
    "    auto_merging_index_1,\n",
    "    similarity_top_k=10,\n",
    "    rerank_top_n=6,\n",
    ")\n"
   ]
  },
  {
   "cell_type": "code",
   "execution_count": 39,
   "id": "d3198fa2-6a81-4edd-a0c8-843c3838f56f",
   "metadata": {
    "height": 81
   },
   "outputs": [
    {
     "data": {
      "text/html": [
       "<pre style=\"white-space:pre;overflow-x:auto;line-height:normal;font-family:Menlo,'DejaVu Sans Mono',consolas,'Courier New',monospace\"><span style=\"color: #800000; text-decoration-color: #800000\">╭─────────────────────────────── </span><span style=\"color: #800000; text-decoration-color: #800000; font-weight: bold\">Traceback </span><span style=\"color: #bf7f7f; text-decoration-color: #bf7f7f; font-weight: bold\">(most recent call last)</span><span style=\"color: #800000; text-decoration-color: #800000\"> ────────────────────────────────╮</span>\n",
       "<span style=\"color: #800000; text-decoration-color: #800000\">│</span> in <span style=\"color: #00ff00; text-decoration-color: #00ff00\">&lt;module&gt;</span>:<span style=\"color: #0000ff; text-decoration-color: #0000ff\">1</span>                                                                                    <span style=\"color: #800000; text-decoration-color: #800000\">│</span>\n",
       "<span style=\"color: #800000; text-decoration-color: #800000\">│</span>                                                                                                  <span style=\"color: #800000; text-decoration-color: #800000\">│</span>\n",
       "<span style=\"color: #800000; text-decoration-color: #800000\">│</span> <span style=\"color: #800000; text-decoration-color: #800000\">❱ </span>1 tru_recorder = get_prebuilt_trulens_recorder(                                                <span style=\"color: #800000; text-decoration-color: #800000\">│</span>\n",
       "<span style=\"color: #800000; text-decoration-color: #800000\">│</span>   <span style=\"color: #7f7f7f; text-decoration-color: #7f7f7f\">2 </span><span style=\"color: #7f7f7f; text-decoration-color: #7f7f7f\">│   </span>auto_merging_engine_1,                                                                   <span style=\"color: #800000; text-decoration-color: #800000\">│</span>\n",
       "<span style=\"color: #800000; text-decoration-color: #800000\">│</span>   <span style=\"color: #7f7f7f; text-decoration-color: #7f7f7f\">3 </span><span style=\"color: #7f7f7f; text-decoration-color: #7f7f7f\">│   </span>app_id =<span style=\"color: #808000; text-decoration-color: #808000\">'app_1'</span>                                                                          <span style=\"color: #800000; text-decoration-color: #800000\">│</span>\n",
       "<span style=\"color: #800000; text-decoration-color: #800000\">│</span>   <span style=\"color: #7f7f7f; text-decoration-color: #7f7f7f\">4 </span>)                                                                                            <span style=\"color: #800000; text-decoration-color: #800000\">│</span>\n",
       "<span style=\"color: #800000; text-decoration-color: #800000\">│</span>                                                                                                  <span style=\"color: #800000; text-decoration-color: #800000\">│</span>\n",
       "<span style=\"color: #800000; text-decoration-color: #800000\">│</span> <span style=\"color: #808000; text-decoration-color: #808000\">c:\\Users\\enesm\\OneDrive\\Masaüstü\\LLAMAINDEX\\utils.py</span>:<span style=\"color: #0000ff; text-decoration-color: #0000ff\">68</span> in <span style=\"color: #00ff00; text-decoration-color: #00ff00\">get_prebuilt_trulens_recorder</span>         <span style=\"color: #800000; text-decoration-color: #800000\">│</span>\n",
       "<span style=\"color: #800000; text-decoration-color: #800000\">│</span>                                                                                                  <span style=\"color: #800000; text-decoration-color: #800000\">│</span>\n",
       "<span style=\"color: #800000; text-decoration-color: #800000\">│</span>   <span style=\"color: #7f7f7f; text-decoration-color: #7f7f7f\"> 65 </span><span style=\"color: #7f7f7f; text-decoration-color: #7f7f7f\">│   │   </span>query_engine,                                                                      <span style=\"color: #800000; text-decoration-color: #800000\">│</span>\n",
       "<span style=\"color: #800000; text-decoration-color: #800000\">│</span>   <span style=\"color: #7f7f7f; text-decoration-color: #7f7f7f\"> 66 </span><span style=\"color: #7f7f7f; text-decoration-color: #7f7f7f\">│   │   </span>app_id=app_id,                                                                     <span style=\"color: #800000; text-decoration-color: #800000\">│</span>\n",
       "<span style=\"color: #800000; text-decoration-color: #800000\">│</span>   <span style=\"color: #7f7f7f; text-decoration-color: #7f7f7f\"> 67 </span><span style=\"color: #7f7f7f; text-decoration-color: #7f7f7f\">│   │   </span>feedbacks=feedbacks                                                                <span style=\"color: #800000; text-decoration-color: #800000\">│</span>\n",
       "<span style=\"color: #800000; text-decoration-color: #800000\">│</span> <span style=\"color: #800000; text-decoration-color: #800000\">❱ </span> 68 <span style=\"color: #7f7f7f; text-decoration-color: #7f7f7f\">│   │   </span>)                                                                                  <span style=\"color: #800000; text-decoration-color: #800000\">│</span>\n",
       "<span style=\"color: #800000; text-decoration-color: #800000\">│</span>   <span style=\"color: #7f7f7f; text-decoration-color: #7f7f7f\"> 69 </span><span style=\"color: #7f7f7f; text-decoration-color: #7f7f7f\">│   </span><span style=\"color: #0000ff; text-decoration-color: #0000ff\">return</span> tru_recorder                                                                    <span style=\"color: #800000; text-decoration-color: #800000\">│</span>\n",
       "<span style=\"color: #800000; text-decoration-color: #800000\">│</span>   <span style=\"color: #7f7f7f; text-decoration-color: #7f7f7f\"> 70 </span>                                                                                           <span style=\"color: #800000; text-decoration-color: #800000\">│</span>\n",
       "<span style=\"color: #800000; text-decoration-color: #800000\">│</span>   <span style=\"color: #7f7f7f; text-decoration-color: #7f7f7f\"> 71 </span><span style=\"color: #0000ff; text-decoration-color: #0000ff\">from</span> <span style=\"color: #00ffff; text-decoration-color: #00ffff; text-decoration: underline\">llama_index</span> <span style=\"color: #0000ff; text-decoration-color: #0000ff\">import</span> ServiceContext, VectorStoreIndex, StorageContext                   <span style=\"color: #800000; text-decoration-color: #800000\">│</span>\n",
       "<span style=\"color: #800000; text-decoration-color: #800000\">│</span>                                                                                                  <span style=\"color: #800000; text-decoration-color: #800000\">│</span>\n",
       "<span style=\"color: #800000; text-decoration-color: #800000\">│</span> <span style=\"color: #808000; text-decoration-color: #808000\">c:\\Users\\enesm\\AppData\\Local\\Programs\\Python\\Python310\\lib\\site-packages\\trulens_eval\\tru_llama.</span> <span style=\"color: #800000; text-decoration-color: #800000\">│</span>\n",
       "<span style=\"color: #800000; text-decoration-color: #800000\">│</span> <span style=\"color: #808000; text-decoration-color: #808000\">py</span>:<span style=\"color: #0000ff; text-decoration-color: #0000ff\">250</span> in <span style=\"color: #00ff00; text-decoration-color: #00ff00\">__init__</span>                                                                               <span style=\"color: #800000; text-decoration-color: #800000\">│</span>\n",
       "<span style=\"color: #800000; text-decoration-color: #800000\">│</span>                                                                                                  <span style=\"color: #800000; text-decoration-color: #800000\">│</span>\n",
       "<span style=\"color: #800000; text-decoration-color: #800000\">│</span>   <span style=\"color: #7f7f7f; text-decoration-color: #7f7f7f\">247 </span><span style=\"color: #7f7f7f; text-decoration-color: #7f7f7f\">│   │   </span>                                                                                   <span style=\"color: #800000; text-decoration-color: #800000\">│</span>\n",
       "<span style=\"color: #800000; text-decoration-color: #800000\">│</span>   <span style=\"color: #7f7f7f; text-decoration-color: #7f7f7f\">248 </span><span style=\"color: #7f7f7f; text-decoration-color: #7f7f7f\">│   │   </span><span style=\"color: #00ffff; text-decoration-color: #00ffff\">super</span>().<span style=\"color: #00ff00; text-decoration-color: #00ff00\">__init__</span>(**kwargs)                                                         <span style=\"color: #800000; text-decoration-color: #800000\">│</span>\n",
       "<span style=\"color: #800000; text-decoration-color: #800000\">│</span>   <span style=\"color: #7f7f7f; text-decoration-color: #7f7f7f\">249 </span><span style=\"color: #7f7f7f; text-decoration-color: #7f7f7f\">│   │   </span>                                                                                   <span style=\"color: #800000; text-decoration-color: #800000\">│</span>\n",
       "<span style=\"color: #800000; text-decoration-color: #800000\">│</span> <span style=\"color: #800000; text-decoration-color: #800000\">❱ </span>250 <span style=\"color: #7f7f7f; text-decoration-color: #7f7f7f\">│   │   </span><span style=\"color: #00ffff; text-decoration-color: #00ffff\">self</span>.post_init()                                                                   <span style=\"color: #800000; text-decoration-color: #800000\">│</span>\n",
       "<span style=\"color: #800000; text-decoration-color: #800000\">│</span>   <span style=\"color: #7f7f7f; text-decoration-color: #7f7f7f\">251 </span><span style=\"color: #7f7f7f; text-decoration-color: #7f7f7f\">│   </span>                                                                                       <span style=\"color: #800000; text-decoration-color: #800000\">│</span>\n",
       "<span style=\"color: #800000; text-decoration-color: #800000\">│</span>   <span style=\"color: #7f7f7f; text-decoration-color: #7f7f7f\">252 </span><span style=\"color: #7f7f7f; text-decoration-color: #7f7f7f\">│   </span><span style=\"color: #ff00ff; text-decoration-color: #ff00ff; font-weight: bold\">@classmethod</span>                                                                           <span style=\"color: #800000; text-decoration-color: #800000\">│</span>\n",
       "<span style=\"color: #800000; text-decoration-color: #800000\">│</span>   <span style=\"color: #7f7f7f; text-decoration-color: #7f7f7f\">253 </span><span style=\"color: #7f7f7f; text-decoration-color: #7f7f7f\">│   </span><span style=\"color: #0000ff; text-decoration-color: #0000ff\">def</span> <span style=\"color: #00ff00; text-decoration-color: #00ff00\">select_source_nodes</span>(<span style=\"color: #00ffff; text-decoration-color: #00ffff\">cls</span>) -&gt; JSONPath:                                              <span style=\"color: #800000; text-decoration-color: #800000\">│</span>\n",
       "<span style=\"color: #800000; text-decoration-color: #800000\">│</span>                                                                                                  <span style=\"color: #800000; text-decoration-color: #800000\">│</span>\n",
       "<span style=\"color: #800000; text-decoration-color: #800000\">│</span> <span style=\"color: #808000; text-decoration-color: #808000\">c:\\Users\\enesm\\AppData\\Local\\Programs\\Python\\Python310\\lib\\site-packages\\trulens_eval\\app.py</span>:<span style=\"color: #0000ff; text-decoration-color: #0000ff\">486</span> <span style=\"color: #800000; text-decoration-color: #800000\">│</span>\n",
       "<span style=\"color: #800000; text-decoration-color: #800000\">│</span> in <span style=\"color: #00ff00; text-decoration-color: #00ff00\">post_init</span>                                                                                     <span style=\"color: #800000; text-decoration-color: #800000\">│</span>\n",
       "<span style=\"color: #800000; text-decoration-color: #800000\">│</span>                                                                                                  <span style=\"color: #800000; text-decoration-color: #800000\">│</span>\n",
       "<span style=\"color: #800000; text-decoration-color: #800000\">│</span>   <span style=\"color: #7f7f7f; text-decoration-color: #7f7f7f\"> 483 </span><span style=\"color: #7f7f7f; text-decoration-color: #7f7f7f\">│   │   │   │   </span>logger.debug(<span style=\"color: #808000; text-decoration-color: #808000\">\"Inserting feedback function definitions to db.\"</span>)            <span style=\"color: #800000; text-decoration-color: #800000\">│</span>\n",
       "<span style=\"color: #800000; text-decoration-color: #800000\">│</span>   <span style=\"color: #7f7f7f; text-decoration-color: #7f7f7f\"> 484 </span><span style=\"color: #7f7f7f; text-decoration-color: #7f7f7f\">│   │   │   │   </span>                                                                          <span style=\"color: #800000; text-decoration-color: #800000\">│</span>\n",
       "<span style=\"color: #800000; text-decoration-color: #800000\">│</span>   <span style=\"color: #7f7f7f; text-decoration-color: #7f7f7f\"> 485 </span><span style=\"color: #7f7f7f; text-decoration-color: #7f7f7f\">│   │   │   │   </span><span style=\"color: #0000ff; text-decoration-color: #0000ff\">for</span> f <span style=\"color: #ff00ff; text-decoration-color: #ff00ff\">in</span> <span style=\"color: #00ffff; text-decoration-color: #00ffff\">self</span>.feedbacks:                                                  <span style=\"color: #800000; text-decoration-color: #800000\">│</span>\n",
       "<span style=\"color: #800000; text-decoration-color: #800000\">│</span> <span style=\"color: #800000; text-decoration-color: #800000\">❱ </span> 486 <span style=\"color: #7f7f7f; text-decoration-color: #7f7f7f\">│   │   │   │   │   </span><span style=\"color: #00ffff; text-decoration-color: #00ffff\">self</span>.db.insert_feedback_definition(f)                                 <span style=\"color: #800000; text-decoration-color: #800000\">│</span>\n",
       "<span style=\"color: #800000; text-decoration-color: #800000\">│</span>   <span style=\"color: #7f7f7f; text-decoration-color: #7f7f7f\"> 487 </span><span style=\"color: #7f7f7f; text-decoration-color: #7f7f7f\">│   │   </span>                                                                                  <span style=\"color: #800000; text-decoration-color: #800000\">│</span>\n",
       "<span style=\"color: #800000; text-decoration-color: #800000\">│</span>   <span style=\"color: #7f7f7f; text-decoration-color: #7f7f7f\"> 488 </span><span style=\"color: #7f7f7f; text-decoration-color: #7f7f7f\">│   │   </span><span style=\"color: #0000ff; text-decoration-color: #0000ff\">else</span>:                                                                             <span style=\"color: #800000; text-decoration-color: #800000\">│</span>\n",
       "<span style=\"color: #800000; text-decoration-color: #800000\">│</span>   <span style=\"color: #7f7f7f; text-decoration-color: #7f7f7f\"> 489 </span><span style=\"color: #7f7f7f; text-decoration-color: #7f7f7f\">│   │   │   </span><span style=\"color: #0000ff; text-decoration-color: #0000ff\">if</span> <span style=\"color: #00ffff; text-decoration-color: #00ffff\">len</span>(<span style=\"color: #00ffff; text-decoration-color: #00ffff\">self</span>.feedbacks) &gt; <span style=\"color: #0000ff; text-decoration-color: #0000ff\">0</span>:                                                   <span style=\"color: #800000; text-decoration-color: #800000\">│</span>\n",
       "<span style=\"color: #800000; text-decoration-color: #800000\">│</span>                                                                                                  <span style=\"color: #800000; text-decoration-color: #800000\">│</span>\n",
       "<span style=\"color: #800000; text-decoration-color: #800000\">│</span> <span style=\"color: #808000; text-decoration-color: #808000\">c:\\Users\\enesm\\AppData\\Local\\Programs\\Python\\Python310\\lib\\site-packages\\trulens_eval\\database\\u</span> <span style=\"color: #800000; text-decoration-color: #800000\">│</span>\n",
       "<span style=\"color: #800000; text-decoration-color: #800000\">│</span> <span style=\"color: #808000; text-decoration-color: #808000\">tils.py</span>:<span style=\"color: #0000ff; text-decoration-color: #0000ff\">61</span> in <span style=\"color: #00ff00; text-decoration-color: #00ff00\">wrapper</span>                                                                            <span style=\"color: #800000; text-decoration-color: #800000\">│</span>\n",
       "<span style=\"color: #800000; text-decoration-color: #800000\">│</span>                                                                                                  <span style=\"color: #800000; text-decoration-color: #800000\">│</span>\n",
       "<span style=\"color: #800000; text-decoration-color: #800000\">│</span>   <span style=\"color: #7f7f7f; text-decoration-color: #7f7f7f\"> 58 </span><span style=\"color: #7f7f7f; text-decoration-color: #7f7f7f\">│   │   </span>                                                                                   <span style=\"color: #800000; text-decoration-color: #800000\">│</span>\n",
       "<span style=\"color: #800000; text-decoration-color: #800000\">│</span>   <span style=\"color: #7f7f7f; text-decoration-color: #7f7f7f\"> 59 </span><span style=\"color: #7f7f7f; text-decoration-color: #7f7f7f\">│   │   </span><span style=\"color: #0000ff; text-decoration-color: #0000ff\">def</span> <span style=\"color: #00ff00; text-decoration-color: #00ff00\">wrapper</span>(*args, **kwargs):                                                      <span style=\"color: #800000; text-decoration-color: #800000\">│</span>\n",
       "<span style=\"color: #800000; text-decoration-color: #800000\">│</span>   <span style=\"color: #7f7f7f; text-decoration-color: #7f7f7f\"> 60 </span><span style=\"color: #7f7f7f; text-decoration-color: #7f7f7f\">│   │   │   </span>callback(*args, **kwargs)                                                      <span style=\"color: #800000; text-decoration-color: #800000\">│</span>\n",
       "<span style=\"color: #800000; text-decoration-color: #800000\">│</span> <span style=\"color: #800000; text-decoration-color: #800000\">❱ </span> 61 <span style=\"color: #7f7f7f; text-decoration-color: #7f7f7f\">│   │   │   </span><span style=\"color: #0000ff; text-decoration-color: #0000ff\">return</span> func(*args, **kwargs)                                                   <span style=\"color: #800000; text-decoration-color: #800000\">│</span>\n",
       "<span style=\"color: #800000; text-decoration-color: #800000\">│</span>   <span style=\"color: #7f7f7f; text-decoration-color: #7f7f7f\"> 62 </span><span style=\"color: #7f7f7f; text-decoration-color: #7f7f7f\">│   │   </span>                                                                                   <span style=\"color: #800000; text-decoration-color: #800000\">│</span>\n",
       "<span style=\"color: #800000; text-decoration-color: #800000\">│</span>   <span style=\"color: #7f7f7f; text-decoration-color: #7f7f7f\"> 63 </span><span style=\"color: #7f7f7f; text-decoration-color: #7f7f7f\">│   │   </span><span style=\"color: #0000ff; text-decoration-color: #0000ff\">return</span> wrapper                                                                     <span style=\"color: #800000; text-decoration-color: #800000\">│</span>\n",
       "<span style=\"color: #800000; text-decoration-color: #800000\">│</span>   <span style=\"color: #7f7f7f; text-decoration-color: #7f7f7f\"> 64 </span>                                                                                           <span style=\"color: #800000; text-decoration-color: #800000\">│</span>\n",
       "<span style=\"color: #800000; text-decoration-color: #800000\">│</span>                                                                                                  <span style=\"color: #800000; text-decoration-color: #800000\">│</span>\n",
       "<span style=\"color: #800000; text-decoration-color: #800000\">│</span> <span style=\"color: #808000; text-decoration-color: #808000\">c:\\Users\\enesm\\AppData\\Local\\Programs\\Python\\Python310\\lib\\site-packages\\trulens_eval\\database\\s</span> <span style=\"color: #800000; text-decoration-color: #800000\">│</span>\n",
       "<span style=\"color: #800000; text-decoration-color: #800000\">│</span> <span style=\"color: #808000; text-decoration-color: #808000\">qlalchemy_db.py</span>:<span style=\"color: #0000ff; text-decoration-color: #0000ff\">195</span> in <span style=\"color: #00ff00; text-decoration-color: #00ff00\">insert_feedback_definition</span>                                                <span style=\"color: #800000; text-decoration-color: #800000\">│</span>\n",
       "<span style=\"color: #800000; text-decoration-color: #800000\">│</span>                                                                                                  <span style=\"color: #800000; text-decoration-color: #800000\">│</span>\n",
       "<span style=\"color: #800000; text-decoration-color: #800000\">│</span>   <span style=\"color: #7f7f7f; text-decoration-color: #7f7f7f\">192 </span><span style=\"color: #7f7f7f; text-decoration-color: #7f7f7f\">│   │   │   </span><span style=\"color: #0000ff; text-decoration-color: #0000ff\">if</span> _fb_def := session.query(orm.FeedbackDefinition) \\                          <span style=\"color: #800000; text-decoration-color: #800000\">│</span>\n",
       "<span style=\"color: #800000; text-decoration-color: #800000\">│</span>   <span style=\"color: #7f7f7f; text-decoration-color: #7f7f7f\">193 </span><span style=\"color: #7f7f7f; text-decoration-color: #7f7f7f\">│   │   │   │   │   </span>.filter_by(feedback_definition_id=feedback_definition.feedback_defin   <span style=\"color: #800000; text-decoration-color: #800000\">│</span>\n",
       "<span style=\"color: #800000; text-decoration-color: #800000\">│</span>   <span style=\"color: #7f7f7f; text-decoration-color: #7f7f7f\">194 </span><span style=\"color: #7f7f7f; text-decoration-color: #7f7f7f\">│   │   │   │   │   </span>.first():                                                              <span style=\"color: #800000; text-decoration-color: #800000\">│</span>\n",
       "<span style=\"color: #800000; text-decoration-color: #800000\">│</span> <span style=\"color: #800000; text-decoration-color: #800000\">❱ </span>195 <span style=\"color: #7f7f7f; text-decoration-color: #7f7f7f\">│   │   │   │   </span>_fb_def.app_json = feedback_definition.json()                              <span style=\"color: #800000; text-decoration-color: #800000\">│</span>\n",
       "<span style=\"color: #800000; text-decoration-color: #800000\">│</span>   <span style=\"color: #7f7f7f; text-decoration-color: #7f7f7f\">196 </span><span style=\"color: #7f7f7f; text-decoration-color: #7f7f7f\">│   │   │   </span><span style=\"color: #0000ff; text-decoration-color: #0000ff\">else</span>:                                                                          <span style=\"color: #800000; text-decoration-color: #800000\">│</span>\n",
       "<span style=\"color: #800000; text-decoration-color: #800000\">│</span>   <span style=\"color: #7f7f7f; text-decoration-color: #7f7f7f\">197 </span><span style=\"color: #7f7f7f; text-decoration-color: #7f7f7f\">│   │   │   │   </span>_fb_def = orm.FeedbackDefinition.parse(                                    <span style=\"color: #800000; text-decoration-color: #800000\">│</span>\n",
       "<span style=\"color: #800000; text-decoration-color: #800000\">│</span>   <span style=\"color: #7f7f7f; text-decoration-color: #7f7f7f\">198 </span><span style=\"color: #7f7f7f; text-decoration-color: #7f7f7f\">│   │   │   │   │   </span>feedback_definition, redact_keys=<span style=\"color: #00ffff; text-decoration-color: #00ffff\">self</span>.redact_keys                      <span style=\"color: #800000; text-decoration-color: #800000\">│</span>\n",
       "<span style=\"color: #800000; text-decoration-color: #800000\">│</span>                                                                                                  <span style=\"color: #800000; text-decoration-color: #800000\">│</span>\n",
       "<span style=\"color: #800000; text-decoration-color: #800000\">│</span> in <span style=\"color: #00ff00; text-decoration-color: #00ff00\">pydantic.main.BaseModel.json</span>:<span style=\"color: #0000ff; text-decoration-color: #0000ff\">504</span>                                                              <span style=\"color: #800000; text-decoration-color: #800000\">│</span>\n",
       "<span style=\"color: #800000; text-decoration-color: #800000\">│</span>                                                                                                  <span style=\"color: #800000; text-decoration-color: #800000\">│</span>\n",
       "<span style=\"color: #800000; text-decoration-color: #800000\">│</span> <span style=\"color: #808000; text-decoration-color: #808000\">c:\\Users\\enesm\\AppData\\Local\\Programs\\Python\\Python310\\lib\\json\\__init__.py</span>:<span style=\"color: #0000ff; text-decoration-color: #0000ff\">238</span> in <span style=\"color: #00ff00; text-decoration-color: #00ff00\">dumps</span>         <span style=\"color: #800000; text-decoration-color: #800000\">│</span>\n",
       "<span style=\"color: #800000; text-decoration-color: #800000\">│</span>                                                                                                  <span style=\"color: #800000; text-decoration-color: #800000\">│</span>\n",
       "<span style=\"color: #800000; text-decoration-color: #800000\">│</span>   <span style=\"color: #7f7f7f; text-decoration-color: #7f7f7f\">235 </span><span style=\"color: #7f7f7f; text-decoration-color: #7f7f7f\">│   │   </span>skipkeys=skipkeys, ensure_ascii=ensure_ascii,                                      <span style=\"color: #800000; text-decoration-color: #800000\">│</span>\n",
       "<span style=\"color: #800000; text-decoration-color: #800000\">│</span>   <span style=\"color: #7f7f7f; text-decoration-color: #7f7f7f\">236 </span><span style=\"color: #7f7f7f; text-decoration-color: #7f7f7f\">│   │   </span>check_circular=check_circular, allow_nan=allow_nan, indent=indent,                 <span style=\"color: #800000; text-decoration-color: #800000\">│</span>\n",
       "<span style=\"color: #800000; text-decoration-color: #800000\">│</span>   <span style=\"color: #7f7f7f; text-decoration-color: #7f7f7f\">237 </span><span style=\"color: #7f7f7f; text-decoration-color: #7f7f7f\">│   │   </span>separators=separators, default=default, sort_keys=sort_keys,                       <span style=\"color: #800000; text-decoration-color: #800000\">│</span>\n",
       "<span style=\"color: #800000; text-decoration-color: #800000\">│</span> <span style=\"color: #800000; text-decoration-color: #800000\">❱ </span>238 <span style=\"color: #7f7f7f; text-decoration-color: #7f7f7f\">│   │   </span>**kw).encode(obj)                                                                  <span style=\"color: #800000; text-decoration-color: #800000\">│</span>\n",
       "<span style=\"color: #800000; text-decoration-color: #800000\">│</span>   <span style=\"color: #7f7f7f; text-decoration-color: #7f7f7f\">239 </span>                                                                                           <span style=\"color: #800000; text-decoration-color: #800000\">│</span>\n",
       "<span style=\"color: #800000; text-decoration-color: #800000\">│</span>   <span style=\"color: #7f7f7f; text-decoration-color: #7f7f7f\">240 </span>                                                                                           <span style=\"color: #800000; text-decoration-color: #800000\">│</span>\n",
       "<span style=\"color: #800000; text-decoration-color: #800000\">│</span>   <span style=\"color: #7f7f7f; text-decoration-color: #7f7f7f\">241 </span>_default_decoder = JSONDecoder(object_hook=<span style=\"color: #0000ff; text-decoration-color: #0000ff\">None</span>, object_pairs_hook=<span style=\"color: #0000ff; text-decoration-color: #0000ff\">None</span>)                   <span style=\"color: #800000; text-decoration-color: #800000\">│</span>\n",
       "<span style=\"color: #800000; text-decoration-color: #800000\">│</span>                                                                                                  <span style=\"color: #800000; text-decoration-color: #800000\">│</span>\n",
       "<span style=\"color: #800000; text-decoration-color: #800000\">│</span> <span style=\"color: #808000; text-decoration-color: #808000\">c:\\Users\\enesm\\AppData\\Local\\Programs\\Python\\Python310\\lib\\json\\encoder.py</span>:<span style=\"color: #0000ff; text-decoration-color: #0000ff\">199</span> in <span style=\"color: #00ff00; text-decoration-color: #00ff00\">encode</span>         <span style=\"color: #800000; text-decoration-color: #800000\">│</span>\n",
       "<span style=\"color: #800000; text-decoration-color: #800000\">│</span>                                                                                                  <span style=\"color: #800000; text-decoration-color: #800000\">│</span>\n",
       "<span style=\"color: #800000; text-decoration-color: #800000\">│</span>   <span style=\"color: #7f7f7f; text-decoration-color: #7f7f7f\">196 </span><span style=\"color: #7f7f7f; text-decoration-color: #7f7f7f\">│   │   </span><span style=\"color: #7f7f7f; text-decoration-color: #7f7f7f\"># This doesn't pass the iterator directly to ''.join() because the</span>                 <span style=\"color: #800000; text-decoration-color: #800000\">│</span>\n",
       "<span style=\"color: #800000; text-decoration-color: #800000\">│</span>   <span style=\"color: #7f7f7f; text-decoration-color: #7f7f7f\">197 </span><span style=\"color: #7f7f7f; text-decoration-color: #7f7f7f\">│   │   </span><span style=\"color: #7f7f7f; text-decoration-color: #7f7f7f\"># exceptions aren't as detailed.  The list call should be roughly</span>                  <span style=\"color: #800000; text-decoration-color: #800000\">│</span>\n",
       "<span style=\"color: #800000; text-decoration-color: #800000\">│</span>   <span style=\"color: #7f7f7f; text-decoration-color: #7f7f7f\">198 </span><span style=\"color: #7f7f7f; text-decoration-color: #7f7f7f\">│   │   </span><span style=\"color: #7f7f7f; text-decoration-color: #7f7f7f\"># equivalent to the PySequence_Fast that ''.join() would do.</span>                       <span style=\"color: #800000; text-decoration-color: #800000\">│</span>\n",
       "<span style=\"color: #800000; text-decoration-color: #800000\">│</span> <span style=\"color: #800000; text-decoration-color: #800000\">❱ </span>199 <span style=\"color: #7f7f7f; text-decoration-color: #7f7f7f\">│   │   </span>chunks = <span style=\"color: #00ffff; text-decoration-color: #00ffff\">self</span>.iterencode(o, _one_shot=<span style=\"color: #0000ff; text-decoration-color: #0000ff\">True</span>)                                        <span style=\"color: #800000; text-decoration-color: #800000\">│</span>\n",
       "<span style=\"color: #800000; text-decoration-color: #800000\">│</span>   <span style=\"color: #7f7f7f; text-decoration-color: #7f7f7f\">200 </span><span style=\"color: #7f7f7f; text-decoration-color: #7f7f7f\">│   │   </span><span style=\"color: #0000ff; text-decoration-color: #0000ff\">if</span> <span style=\"color: #ff00ff; text-decoration-color: #ff00ff\">not</span> <span style=\"color: #00ffff; text-decoration-color: #00ffff\">isinstance</span>(chunks, (<span style=\"color: #00ffff; text-decoration-color: #00ffff\">list</span>, <span style=\"color: #00ffff; text-decoration-color: #00ffff\">tuple</span>)):                                          <span style=\"color: #800000; text-decoration-color: #800000\">│</span>\n",
       "<span style=\"color: #800000; text-decoration-color: #800000\">│</span>   <span style=\"color: #7f7f7f; text-decoration-color: #7f7f7f\">201 </span><span style=\"color: #7f7f7f; text-decoration-color: #7f7f7f\">│   │   │   </span>chunks = <span style=\"color: #00ffff; text-decoration-color: #00ffff\">list</span>(chunks)                                                          <span style=\"color: #800000; text-decoration-color: #800000\">│</span>\n",
       "<span style=\"color: #800000; text-decoration-color: #800000\">│</span>   <span style=\"color: #7f7f7f; text-decoration-color: #7f7f7f\">202 </span><span style=\"color: #7f7f7f; text-decoration-color: #7f7f7f\">│   │   </span><span style=\"color: #0000ff; text-decoration-color: #0000ff\">return</span> <span style=\"color: #808000; text-decoration-color: #808000\">''</span>.join(chunks)                                                             <span style=\"color: #800000; text-decoration-color: #800000\">│</span>\n",
       "<span style=\"color: #800000; text-decoration-color: #800000\">│</span>                                                                                                  <span style=\"color: #800000; text-decoration-color: #800000\">│</span>\n",
       "<span style=\"color: #800000; text-decoration-color: #800000\">│</span> <span style=\"color: #808000; text-decoration-color: #808000\">c:\\Users\\enesm\\AppData\\Local\\Programs\\Python\\Python310\\lib\\json\\encoder.py</span>:<span style=\"color: #0000ff; text-decoration-color: #0000ff\">257</span> in <span style=\"color: #00ff00; text-decoration-color: #00ff00\">iterencode</span>     <span style=\"color: #800000; text-decoration-color: #800000\">│</span>\n",
       "<span style=\"color: #800000; text-decoration-color: #800000\">│</span>                                                                                                  <span style=\"color: #800000; text-decoration-color: #800000\">│</span>\n",
       "<span style=\"color: #800000; text-decoration-color: #800000\">│</span>   <span style=\"color: #7f7f7f; text-decoration-color: #7f7f7f\">254 </span><span style=\"color: #7f7f7f; text-decoration-color: #7f7f7f\">│   │   │   │   </span>markers, <span style=\"color: #00ffff; text-decoration-color: #00ffff\">self</span>.default, _encoder, <span style=\"color: #00ffff; text-decoration-color: #00ffff\">self</span>.indent, floatstr,                    <span style=\"color: #800000; text-decoration-color: #800000\">│</span>\n",
       "<span style=\"color: #800000; text-decoration-color: #800000\">│</span>   <span style=\"color: #7f7f7f; text-decoration-color: #7f7f7f\">255 </span><span style=\"color: #7f7f7f; text-decoration-color: #7f7f7f\">│   │   │   │   </span><span style=\"color: #00ffff; text-decoration-color: #00ffff\">self</span>.key_separator, <span style=\"color: #00ffff; text-decoration-color: #00ffff\">self</span>.item_separator, <span style=\"color: #00ffff; text-decoration-color: #00ffff\">self</span>.sort_keys,                   <span style=\"color: #800000; text-decoration-color: #800000\">│</span>\n",
       "<span style=\"color: #800000; text-decoration-color: #800000\">│</span>   <span style=\"color: #7f7f7f; text-decoration-color: #7f7f7f\">256 </span><span style=\"color: #7f7f7f; text-decoration-color: #7f7f7f\">│   │   │   │   </span><span style=\"color: #00ffff; text-decoration-color: #00ffff\">self</span>.skipkeys, _one_shot)                                                  <span style=\"color: #800000; text-decoration-color: #800000\">│</span>\n",
       "<span style=\"color: #800000; text-decoration-color: #800000\">│</span> <span style=\"color: #800000; text-decoration-color: #800000\">❱ </span>257 <span style=\"color: #7f7f7f; text-decoration-color: #7f7f7f\">│   │   </span><span style=\"color: #0000ff; text-decoration-color: #0000ff\">return</span> _iterencode(o, <span style=\"color: #0000ff; text-decoration-color: #0000ff\">0</span>)                                                           <span style=\"color: #800000; text-decoration-color: #800000\">│</span>\n",
       "<span style=\"color: #800000; text-decoration-color: #800000\">│</span>   <span style=\"color: #7f7f7f; text-decoration-color: #7f7f7f\">258 </span>                                                                                           <span style=\"color: #800000; text-decoration-color: #800000\">│</span>\n",
       "<span style=\"color: #800000; text-decoration-color: #800000\">│</span>   <span style=\"color: #7f7f7f; text-decoration-color: #7f7f7f\">259 </span><span style=\"color: #0000ff; text-decoration-color: #0000ff\">def</span> <span style=\"color: #00ff00; text-decoration-color: #00ff00\">_make_iterencode</span>(markers, _default, _encoder, _indent, _floatstr,                      <span style=\"color: #800000; text-decoration-color: #800000\">│</span>\n",
       "<span style=\"color: #800000; text-decoration-color: #800000\">│</span>   <span style=\"color: #7f7f7f; text-decoration-color: #7f7f7f\">260 </span><span style=\"color: #7f7f7f; text-decoration-color: #7f7f7f\">│   │   </span>_key_separator, _item_separator, _sort_keys, _skipkeys, _one_shot,                 <span style=\"color: #800000; text-decoration-color: #800000\">│</span>\n",
       "<span style=\"color: #800000; text-decoration-color: #800000\">│</span>                                                                                                  <span style=\"color: #800000; text-decoration-color: #800000\">│</span>\n",
       "<span style=\"color: #800000; text-decoration-color: #800000\">│</span> in <span style=\"color: #00ff00; text-decoration-color: #00ff00\">pydantic.json.pydantic_encoder</span>:<span style=\"color: #0000ff; text-decoration-color: #0000ff\">90</span>                                                             <span style=\"color: #800000; text-decoration-color: #800000\">│</span>\n",
       "<span style=\"color: #800000; text-decoration-color: #800000\">╰──────────────────────────────────────────────────────────────────────────────────────────────────╯</span>\n",
       "<span style=\"color: #ff0000; text-decoration-color: #ff0000; font-weight: bold\">TypeError: </span>Object of type <span style=\"color: #008000; text-decoration-color: #008000\">'OpenAI'</span> is not JSON serializable\n",
       "</pre>\n"
      ],
      "text/plain": [
       "\u001b[31m╭─\u001b[0m\u001b[31m──────────────────────────────\u001b[0m\u001b[31m \u001b[0m\u001b[1;31mTraceback \u001b[0m\u001b[1;2;31m(most recent call last)\u001b[0m\u001b[31m \u001b[0m\u001b[31m───────────────────────────────\u001b[0m\u001b[31m─╮\u001b[0m\n",
       "\u001b[31m│\u001b[0m in \u001b[92m<module>\u001b[0m:\u001b[94m1\u001b[0m                                                                                    \u001b[31m│\u001b[0m\n",
       "\u001b[31m│\u001b[0m                                                                                                  \u001b[31m│\u001b[0m\n",
       "\u001b[31m│\u001b[0m \u001b[31m❱ \u001b[0m1 tru_recorder = get_prebuilt_trulens_recorder(                                                \u001b[31m│\u001b[0m\n",
       "\u001b[31m│\u001b[0m   \u001b[2m2 \u001b[0m\u001b[2m│   \u001b[0mauto_merging_engine_1,                                                                   \u001b[31m│\u001b[0m\n",
       "\u001b[31m│\u001b[0m   \u001b[2m3 \u001b[0m\u001b[2m│   \u001b[0mapp_id =\u001b[33m'\u001b[0m\u001b[33mapp_1\u001b[0m\u001b[33m'\u001b[0m                                                                          \u001b[31m│\u001b[0m\n",
       "\u001b[31m│\u001b[0m   \u001b[2m4 \u001b[0m)                                                                                            \u001b[31m│\u001b[0m\n",
       "\u001b[31m│\u001b[0m                                                                                                  \u001b[31m│\u001b[0m\n",
       "\u001b[31m│\u001b[0m \u001b[33mc:\\Users\\enesm\\OneDrive\\Masaüstü\\LLAMAINDEX\\utils.py\u001b[0m:\u001b[94m68\u001b[0m in \u001b[92mget_prebuilt_trulens_recorder\u001b[0m         \u001b[31m│\u001b[0m\n",
       "\u001b[31m│\u001b[0m                                                                                                  \u001b[31m│\u001b[0m\n",
       "\u001b[31m│\u001b[0m   \u001b[2m 65 \u001b[0m\u001b[2m│   │   \u001b[0mquery_engine,                                                                      \u001b[31m│\u001b[0m\n",
       "\u001b[31m│\u001b[0m   \u001b[2m 66 \u001b[0m\u001b[2m│   │   \u001b[0mapp_id=app_id,                                                                     \u001b[31m│\u001b[0m\n",
       "\u001b[31m│\u001b[0m   \u001b[2m 67 \u001b[0m\u001b[2m│   │   \u001b[0mfeedbacks=feedbacks                                                                \u001b[31m│\u001b[0m\n",
       "\u001b[31m│\u001b[0m \u001b[31m❱ \u001b[0m 68 \u001b[2m│   │   \u001b[0m)                                                                                  \u001b[31m│\u001b[0m\n",
       "\u001b[31m│\u001b[0m   \u001b[2m 69 \u001b[0m\u001b[2m│   \u001b[0m\u001b[94mreturn\u001b[0m tru_recorder                                                                    \u001b[31m│\u001b[0m\n",
       "\u001b[31m│\u001b[0m   \u001b[2m 70 \u001b[0m                                                                                           \u001b[31m│\u001b[0m\n",
       "\u001b[31m│\u001b[0m   \u001b[2m 71 \u001b[0m\u001b[94mfrom\u001b[0m \u001b[4;96mllama_index\u001b[0m \u001b[94mimport\u001b[0m ServiceContext, VectorStoreIndex, StorageContext                   \u001b[31m│\u001b[0m\n",
       "\u001b[31m│\u001b[0m                                                                                                  \u001b[31m│\u001b[0m\n",
       "\u001b[31m│\u001b[0m \u001b[33mc:\\Users\\enesm\\AppData\\Local\\Programs\\Python\\Python310\\lib\\site-packages\\trulens_eval\\tru_llama.\u001b[0m \u001b[31m│\u001b[0m\n",
       "\u001b[31m│\u001b[0m \u001b[33mpy\u001b[0m:\u001b[94m250\u001b[0m in \u001b[92m__init__\u001b[0m                                                                               \u001b[31m│\u001b[0m\n",
       "\u001b[31m│\u001b[0m                                                                                                  \u001b[31m│\u001b[0m\n",
       "\u001b[31m│\u001b[0m   \u001b[2m247 \u001b[0m\u001b[2m│   │   \u001b[0m                                                                                   \u001b[31m│\u001b[0m\n",
       "\u001b[31m│\u001b[0m   \u001b[2m248 \u001b[0m\u001b[2m│   │   \u001b[0m\u001b[96msuper\u001b[0m().\u001b[92m__init__\u001b[0m(**kwargs)                                                         \u001b[31m│\u001b[0m\n",
       "\u001b[31m│\u001b[0m   \u001b[2m249 \u001b[0m\u001b[2m│   │   \u001b[0m                                                                                   \u001b[31m│\u001b[0m\n",
       "\u001b[31m│\u001b[0m \u001b[31m❱ \u001b[0m250 \u001b[2m│   │   \u001b[0m\u001b[96mself\u001b[0m.post_init()                                                                   \u001b[31m│\u001b[0m\n",
       "\u001b[31m│\u001b[0m   \u001b[2m251 \u001b[0m\u001b[2m│   \u001b[0m                                                                                       \u001b[31m│\u001b[0m\n",
       "\u001b[31m│\u001b[0m   \u001b[2m252 \u001b[0m\u001b[2m│   \u001b[0m\u001b[1;95m@classmethod\u001b[0m                                                                           \u001b[31m│\u001b[0m\n",
       "\u001b[31m│\u001b[0m   \u001b[2m253 \u001b[0m\u001b[2m│   \u001b[0m\u001b[94mdef\u001b[0m \u001b[92mselect_source_nodes\u001b[0m(\u001b[96mcls\u001b[0m) -> JSONPath:                                              \u001b[31m│\u001b[0m\n",
       "\u001b[31m│\u001b[0m                                                                                                  \u001b[31m│\u001b[0m\n",
       "\u001b[31m│\u001b[0m \u001b[33mc:\\Users\\enesm\\AppData\\Local\\Programs\\Python\\Python310\\lib\\site-packages\\trulens_eval\\app.py\u001b[0m:\u001b[94m486\u001b[0m \u001b[31m│\u001b[0m\n",
       "\u001b[31m│\u001b[0m in \u001b[92mpost_init\u001b[0m                                                                                     \u001b[31m│\u001b[0m\n",
       "\u001b[31m│\u001b[0m                                                                                                  \u001b[31m│\u001b[0m\n",
       "\u001b[31m│\u001b[0m   \u001b[2m 483 \u001b[0m\u001b[2m│   │   │   │   \u001b[0mlogger.debug(\u001b[33m\"\u001b[0m\u001b[33mInserting feedback function definitions to db.\u001b[0m\u001b[33m\"\u001b[0m)            \u001b[31m│\u001b[0m\n",
       "\u001b[31m│\u001b[0m   \u001b[2m 484 \u001b[0m\u001b[2m│   │   │   │   \u001b[0m                                                                          \u001b[31m│\u001b[0m\n",
       "\u001b[31m│\u001b[0m   \u001b[2m 485 \u001b[0m\u001b[2m│   │   │   │   \u001b[0m\u001b[94mfor\u001b[0m f \u001b[95min\u001b[0m \u001b[96mself\u001b[0m.feedbacks:                                                  \u001b[31m│\u001b[0m\n",
       "\u001b[31m│\u001b[0m \u001b[31m❱ \u001b[0m 486 \u001b[2m│   │   │   │   │   \u001b[0m\u001b[96mself\u001b[0m.db.insert_feedback_definition(f)                                 \u001b[31m│\u001b[0m\n",
       "\u001b[31m│\u001b[0m   \u001b[2m 487 \u001b[0m\u001b[2m│   │   \u001b[0m                                                                                  \u001b[31m│\u001b[0m\n",
       "\u001b[31m│\u001b[0m   \u001b[2m 488 \u001b[0m\u001b[2m│   │   \u001b[0m\u001b[94melse\u001b[0m:                                                                             \u001b[31m│\u001b[0m\n",
       "\u001b[31m│\u001b[0m   \u001b[2m 489 \u001b[0m\u001b[2m│   │   │   \u001b[0m\u001b[94mif\u001b[0m \u001b[96mlen\u001b[0m(\u001b[96mself\u001b[0m.feedbacks) > \u001b[94m0\u001b[0m:                                                   \u001b[31m│\u001b[0m\n",
       "\u001b[31m│\u001b[0m                                                                                                  \u001b[31m│\u001b[0m\n",
       "\u001b[31m│\u001b[0m \u001b[33mc:\\Users\\enesm\\AppData\\Local\\Programs\\Python\\Python310\\lib\\site-packages\\trulens_eval\\database\\u\u001b[0m \u001b[31m│\u001b[0m\n",
       "\u001b[31m│\u001b[0m \u001b[33mtils.py\u001b[0m:\u001b[94m61\u001b[0m in \u001b[92mwrapper\u001b[0m                                                                            \u001b[31m│\u001b[0m\n",
       "\u001b[31m│\u001b[0m                                                                                                  \u001b[31m│\u001b[0m\n",
       "\u001b[31m│\u001b[0m   \u001b[2m 58 \u001b[0m\u001b[2m│   │   \u001b[0m                                                                                   \u001b[31m│\u001b[0m\n",
       "\u001b[31m│\u001b[0m   \u001b[2m 59 \u001b[0m\u001b[2m│   │   \u001b[0m\u001b[94mdef\u001b[0m \u001b[92mwrapper\u001b[0m(*args, **kwargs):                                                      \u001b[31m│\u001b[0m\n",
       "\u001b[31m│\u001b[0m   \u001b[2m 60 \u001b[0m\u001b[2m│   │   │   \u001b[0mcallback(*args, **kwargs)                                                      \u001b[31m│\u001b[0m\n",
       "\u001b[31m│\u001b[0m \u001b[31m❱ \u001b[0m 61 \u001b[2m│   │   │   \u001b[0m\u001b[94mreturn\u001b[0m func(*args, **kwargs)                                                   \u001b[31m│\u001b[0m\n",
       "\u001b[31m│\u001b[0m   \u001b[2m 62 \u001b[0m\u001b[2m│   │   \u001b[0m                                                                                   \u001b[31m│\u001b[0m\n",
       "\u001b[31m│\u001b[0m   \u001b[2m 63 \u001b[0m\u001b[2m│   │   \u001b[0m\u001b[94mreturn\u001b[0m wrapper                                                                     \u001b[31m│\u001b[0m\n",
       "\u001b[31m│\u001b[0m   \u001b[2m 64 \u001b[0m                                                                                           \u001b[31m│\u001b[0m\n",
       "\u001b[31m│\u001b[0m                                                                                                  \u001b[31m│\u001b[0m\n",
       "\u001b[31m│\u001b[0m \u001b[33mc:\\Users\\enesm\\AppData\\Local\\Programs\\Python\\Python310\\lib\\site-packages\\trulens_eval\\database\\s\u001b[0m \u001b[31m│\u001b[0m\n",
       "\u001b[31m│\u001b[0m \u001b[33mqlalchemy_db.py\u001b[0m:\u001b[94m195\u001b[0m in \u001b[92minsert_feedback_definition\u001b[0m                                                \u001b[31m│\u001b[0m\n",
       "\u001b[31m│\u001b[0m                                                                                                  \u001b[31m│\u001b[0m\n",
       "\u001b[31m│\u001b[0m   \u001b[2m192 \u001b[0m\u001b[2m│   │   │   \u001b[0m\u001b[94mif\u001b[0m _fb_def := session.query(orm.FeedbackDefinition) \\                          \u001b[31m│\u001b[0m\n",
       "\u001b[31m│\u001b[0m   \u001b[2m193 \u001b[0m\u001b[2m│   │   │   │   │   \u001b[0m.filter_by(feedback_definition_id=feedback_definition.feedback_defin   \u001b[31m│\u001b[0m\n",
       "\u001b[31m│\u001b[0m   \u001b[2m194 \u001b[0m\u001b[2m│   │   │   │   │   \u001b[0m.first():                                                              \u001b[31m│\u001b[0m\n",
       "\u001b[31m│\u001b[0m \u001b[31m❱ \u001b[0m195 \u001b[2m│   │   │   │   \u001b[0m_fb_def.app_json = feedback_definition.json()                              \u001b[31m│\u001b[0m\n",
       "\u001b[31m│\u001b[0m   \u001b[2m196 \u001b[0m\u001b[2m│   │   │   \u001b[0m\u001b[94melse\u001b[0m:                                                                          \u001b[31m│\u001b[0m\n",
       "\u001b[31m│\u001b[0m   \u001b[2m197 \u001b[0m\u001b[2m│   │   │   │   \u001b[0m_fb_def = orm.FeedbackDefinition.parse(                                    \u001b[31m│\u001b[0m\n",
       "\u001b[31m│\u001b[0m   \u001b[2m198 \u001b[0m\u001b[2m│   │   │   │   │   \u001b[0mfeedback_definition, redact_keys=\u001b[96mself\u001b[0m.redact_keys                      \u001b[31m│\u001b[0m\n",
       "\u001b[31m│\u001b[0m                                                                                                  \u001b[31m│\u001b[0m\n",
       "\u001b[31m│\u001b[0m in \u001b[92mpydantic.main.BaseModel.json\u001b[0m:\u001b[94m504\u001b[0m                                                              \u001b[31m│\u001b[0m\n",
       "\u001b[31m│\u001b[0m                                                                                                  \u001b[31m│\u001b[0m\n",
       "\u001b[31m│\u001b[0m \u001b[33mc:\\Users\\enesm\\AppData\\Local\\Programs\\Python\\Python310\\lib\\json\\__init__.py\u001b[0m:\u001b[94m238\u001b[0m in \u001b[92mdumps\u001b[0m         \u001b[31m│\u001b[0m\n",
       "\u001b[31m│\u001b[0m                                                                                                  \u001b[31m│\u001b[0m\n",
       "\u001b[31m│\u001b[0m   \u001b[2m235 \u001b[0m\u001b[2m│   │   \u001b[0mskipkeys=skipkeys, ensure_ascii=ensure_ascii,                                      \u001b[31m│\u001b[0m\n",
       "\u001b[31m│\u001b[0m   \u001b[2m236 \u001b[0m\u001b[2m│   │   \u001b[0mcheck_circular=check_circular, allow_nan=allow_nan, indent=indent,                 \u001b[31m│\u001b[0m\n",
       "\u001b[31m│\u001b[0m   \u001b[2m237 \u001b[0m\u001b[2m│   │   \u001b[0mseparators=separators, default=default, sort_keys=sort_keys,                       \u001b[31m│\u001b[0m\n",
       "\u001b[31m│\u001b[0m \u001b[31m❱ \u001b[0m238 \u001b[2m│   │   \u001b[0m**kw).encode(obj)                                                                  \u001b[31m│\u001b[0m\n",
       "\u001b[31m│\u001b[0m   \u001b[2m239 \u001b[0m                                                                                           \u001b[31m│\u001b[0m\n",
       "\u001b[31m│\u001b[0m   \u001b[2m240 \u001b[0m                                                                                           \u001b[31m│\u001b[0m\n",
       "\u001b[31m│\u001b[0m   \u001b[2m241 \u001b[0m_default_decoder = JSONDecoder(object_hook=\u001b[94mNone\u001b[0m, object_pairs_hook=\u001b[94mNone\u001b[0m)                   \u001b[31m│\u001b[0m\n",
       "\u001b[31m│\u001b[0m                                                                                                  \u001b[31m│\u001b[0m\n",
       "\u001b[31m│\u001b[0m \u001b[33mc:\\Users\\enesm\\AppData\\Local\\Programs\\Python\\Python310\\lib\\json\\encoder.py\u001b[0m:\u001b[94m199\u001b[0m in \u001b[92mencode\u001b[0m         \u001b[31m│\u001b[0m\n",
       "\u001b[31m│\u001b[0m                                                                                                  \u001b[31m│\u001b[0m\n",
       "\u001b[31m│\u001b[0m   \u001b[2m196 \u001b[0m\u001b[2m│   │   \u001b[0m\u001b[2m# This doesn't pass the iterator directly to ''.join() because the\u001b[0m                 \u001b[31m│\u001b[0m\n",
       "\u001b[31m│\u001b[0m   \u001b[2m197 \u001b[0m\u001b[2m│   │   \u001b[0m\u001b[2m# exceptions aren't as detailed.  The list call should be roughly\u001b[0m                  \u001b[31m│\u001b[0m\n",
       "\u001b[31m│\u001b[0m   \u001b[2m198 \u001b[0m\u001b[2m│   │   \u001b[0m\u001b[2m# equivalent to the PySequence_Fast that ''.join() would do.\u001b[0m                       \u001b[31m│\u001b[0m\n",
       "\u001b[31m│\u001b[0m \u001b[31m❱ \u001b[0m199 \u001b[2m│   │   \u001b[0mchunks = \u001b[96mself\u001b[0m.iterencode(o, _one_shot=\u001b[94mTrue\u001b[0m)                                        \u001b[31m│\u001b[0m\n",
       "\u001b[31m│\u001b[0m   \u001b[2m200 \u001b[0m\u001b[2m│   │   \u001b[0m\u001b[94mif\u001b[0m \u001b[95mnot\u001b[0m \u001b[96misinstance\u001b[0m(chunks, (\u001b[96mlist\u001b[0m, \u001b[96mtuple\u001b[0m)):                                          \u001b[31m│\u001b[0m\n",
       "\u001b[31m│\u001b[0m   \u001b[2m201 \u001b[0m\u001b[2m│   │   │   \u001b[0mchunks = \u001b[96mlist\u001b[0m(chunks)                                                          \u001b[31m│\u001b[0m\n",
       "\u001b[31m│\u001b[0m   \u001b[2m202 \u001b[0m\u001b[2m│   │   \u001b[0m\u001b[94mreturn\u001b[0m \u001b[33m'\u001b[0m\u001b[33m'\u001b[0m.join(chunks)                                                             \u001b[31m│\u001b[0m\n",
       "\u001b[31m│\u001b[0m                                                                                                  \u001b[31m│\u001b[0m\n",
       "\u001b[31m│\u001b[0m \u001b[33mc:\\Users\\enesm\\AppData\\Local\\Programs\\Python\\Python310\\lib\\json\\encoder.py\u001b[0m:\u001b[94m257\u001b[0m in \u001b[92miterencode\u001b[0m     \u001b[31m│\u001b[0m\n",
       "\u001b[31m│\u001b[0m                                                                                                  \u001b[31m│\u001b[0m\n",
       "\u001b[31m│\u001b[0m   \u001b[2m254 \u001b[0m\u001b[2m│   │   │   │   \u001b[0mmarkers, \u001b[96mself\u001b[0m.default, _encoder, \u001b[96mself\u001b[0m.indent, floatstr,                    \u001b[31m│\u001b[0m\n",
       "\u001b[31m│\u001b[0m   \u001b[2m255 \u001b[0m\u001b[2m│   │   │   │   \u001b[0m\u001b[96mself\u001b[0m.key_separator, \u001b[96mself\u001b[0m.item_separator, \u001b[96mself\u001b[0m.sort_keys,                   \u001b[31m│\u001b[0m\n",
       "\u001b[31m│\u001b[0m   \u001b[2m256 \u001b[0m\u001b[2m│   │   │   │   \u001b[0m\u001b[96mself\u001b[0m.skipkeys, _one_shot)                                                  \u001b[31m│\u001b[0m\n",
       "\u001b[31m│\u001b[0m \u001b[31m❱ \u001b[0m257 \u001b[2m│   │   \u001b[0m\u001b[94mreturn\u001b[0m _iterencode(o, \u001b[94m0\u001b[0m)                                                           \u001b[31m│\u001b[0m\n",
       "\u001b[31m│\u001b[0m   \u001b[2m258 \u001b[0m                                                                                           \u001b[31m│\u001b[0m\n",
       "\u001b[31m│\u001b[0m   \u001b[2m259 \u001b[0m\u001b[94mdef\u001b[0m \u001b[92m_make_iterencode\u001b[0m(markers, _default, _encoder, _indent, _floatstr,                      \u001b[31m│\u001b[0m\n",
       "\u001b[31m│\u001b[0m   \u001b[2m260 \u001b[0m\u001b[2m│   │   \u001b[0m_key_separator, _item_separator, _sort_keys, _skipkeys, _one_shot,                 \u001b[31m│\u001b[0m\n",
       "\u001b[31m│\u001b[0m                                                                                                  \u001b[31m│\u001b[0m\n",
       "\u001b[31m│\u001b[0m in \u001b[92mpydantic.json.pydantic_encoder\u001b[0m:\u001b[94m90\u001b[0m                                                             \u001b[31m│\u001b[0m\n",
       "\u001b[31m╰──────────────────────────────────────────────────────────────────────────────────────────────────╯\u001b[0m\n",
       "\u001b[1;91mTypeError: \u001b[0mObject of type \u001b[32m'OpenAI'\u001b[0m is not JSON serializable\n"
      ]
     },
     "metadata": {},
     "output_type": "display_data"
    }
   ],
   "source": [
    "tru_recorder = get_prebuilt_trulens_recorder(\n",
    "    auto_merging_engine_1,\n",
    "    app_id ='app_1'\n",
    ")"
   ]
  },
  {
   "cell_type": "code",
   "execution_count": 40,
   "id": "5063c989-9f96-4bfa-bb50-fa9dbf6d576c",
   "metadata": {
    "height": 30
   },
   "outputs": [
    {
     "name": "stdout",
     "output_type": "stream",
     "text": [
      "> Merging 2 nodes into parent node.\n",
      "> Parent node id: 2ab9ba8f-6ecb-4d33-a74f-bc7dcf52ee05.\n",
      "> Parent node text: it would not I wouldn't h ave \n",
      "done myself Justice if I didn't you know at least look at those an...\n",
      "\n",
      "> Merging 1 nodes into parent node.\n",
      "> Parent node id: 87be3bbe-b0f6-464e-b6f2-ec96d8ea30ae.\n",
      "> Parent node text: the bmw x1 as well which is technic ally engineers under the \n",
      "bmw umbrella today we're going to t...\n",
      "\n",
      "> Merging 2 nodes into parent node.\n",
      "> Parent node id: e3fcc075-9d17-45bf-812a-8dc64b8fc589.\n",
      "> Parent node text: it gives you quite a bit of wheel spin and off we \n",
      "go so performance is actually very very very n...\n",
      "\n",
      "> Merging 2 nodes into parent node.\n",
      "> Parent node id: d631dd59-0c79-4566-af67-3053292552b4.\n",
      "> Parent node text: talking about \n",
      "uncertainty because of the expansion joint on the expansion like oh my goodness th...\n",
      "\n"
     ]
    }
   ],
   "source": [
    "run_evals(eval_questions, tru_recorder, auto_merging_engine_1)"
   ]
  },
  {
   "cell_type": "code",
   "execution_count": 41,
   "id": "c26b5c94-16ce-415d-93ca-a131b05f903f",
   "metadata": {
    "height": 64
   },
   "outputs": [
    {
     "data": {
      "text/html": [
       "<div>\n",
       "<style scoped>\n",
       "    .dataframe tbody tr th:only-of-type {\n",
       "        vertical-align: middle;\n",
       "    }\n",
       "\n",
       "    .dataframe tbody tr th {\n",
       "        vertical-align: top;\n",
       "    }\n",
       "\n",
       "    .dataframe thead th {\n",
       "        text-align: right;\n",
       "    }\n",
       "</style>\n",
       "<table border=\"1\" class=\"dataframe\">\n",
       "  <thead>\n",
       "    <tr style=\"text-align: right;\">\n",
       "      <th></th>\n",
       "      <th>Context Relevance</th>\n",
       "      <th>Answer Relevance</th>\n",
       "      <th>Groundedness</th>\n",
       "      <th>latency</th>\n",
       "      <th>total_cost</th>\n",
       "    </tr>\n",
       "    <tr>\n",
       "      <th>app_id</th>\n",
       "      <th></th>\n",
       "      <th></th>\n",
       "      <th></th>\n",
       "      <th></th>\n",
       "      <th></th>\n",
       "    </tr>\n",
       "  </thead>\n",
       "  <tbody>\n",
       "    <tr>\n",
       "      <th>app_0</th>\n",
       "      <td>0.060833</td>\n",
       "      <td>0.885714</td>\n",
       "      <td>0.629688</td>\n",
       "      <td>35.4</td>\n",
       "      <td>0.009249</td>\n",
       "    </tr>\n",
       "  </tbody>\n",
       "</table>\n",
       "</div>"
      ],
      "text/plain": [
       "        Context Relevance  Answer Relevance  Groundedness  latency  total_cost\n",
       "app_id                                                                        \n",
       "app_0            0.060833          0.885714      0.629688     35.4    0.009249"
      ]
     },
     "execution_count": 41,
     "metadata": {},
     "output_type": "execute_result"
    }
   ],
   "source": [
    "from trulens_eval import Tru\n",
    "\n",
    "Tru().get_leaderboard(app_ids=[])"
   ]
  },
  {
   "cell_type": "code",
   "execution_count": 42,
   "id": "3988b3f8-bd4c-41e5-be50-e90b8366f4bd",
   "metadata": {
    "height": 30
   },
   "outputs": [
    {
     "name": "stdout",
     "output_type": "stream",
     "text": [
      "Starting dashboard ...\n",
      "Config file already exists. Skipping writing process.\n",
      "Credentials file already exists. Skipping writing process.\n",
      "Dashboard already running at path:   Network URL: http://192.168.142.162:8503\n",
      "\n"
     ]
    },
    {
     "data": {
      "text/plain": [
       "<Popen: returncode: None args: ['streamlit', 'run', '--server.headless=True'...>"
      ]
     },
     "execution_count": 42,
     "metadata": {},
     "output_type": "execute_result"
    }
   ],
   "source": [
    "Tru().run_dashboard()"
   ]
  }
 ],
 "metadata": {
  "kernelspec": {
   "display_name": "Python 3 (ipykernel)",
   "language": "python",
   "name": "python3"
  },
  "language_info": {
   "codemirror_mode": {
    "name": "ipython",
    "version": 3
   },
   "file_extension": ".py",
   "mimetype": "text/x-python",
   "name": "python",
   "nbconvert_exporter": "python",
   "pygments_lexer": "ipython3",
   "version": "0.0.0"
  }
 },
 "nbformat": 4,
 "nbformat_minor": 5
}
