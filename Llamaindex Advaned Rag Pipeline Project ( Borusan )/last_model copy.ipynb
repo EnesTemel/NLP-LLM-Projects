{
 "cells": [
  {
   "cell_type": "code",
   "execution_count": 4,
   "id": "f415dfb6",
   "metadata": {},
   "outputs": [],
   "source": [
    "import utils\n",
    "from dotenv import load_dotenv, find_dotenv\n",
    "import os \n",
    "\n",
    "# the function for getting the openai api key \n",
    "def get_openai_api_key():\n",
    "    _ = load_dotenv(find_dotenv())\n",
    "    \n",
    "    return os.getenv(\"OPENAI_API_KEY\")"
   ]
  },
  {
   "cell_type": "code",
   "execution_count": 5,
   "id": "cc556580",
   "metadata": {},
   "outputs": [
    {
     "data": {
      "text/plain": [
       "'c:\\\\Users\\\\enesm\\\\OneDrive\\\\Masaüstü\\\\VSCODE\\\\BORUSAN\\\\.env'"
      ]
     },
     "execution_count": 5,
     "metadata": {},
     "output_type": "execute_result"
    }
   ],
   "source": [
    "find_dotenv()"
   ]
  },
  {
   "cell_type": "code",
   "execution_count": 6,
   "id": "542e0bda",
   "metadata": {},
   "outputs": [
    {
     "data": {
      "text/plain": [
       "'usk-NwaUeTFbzbnpdSmPbMTWT3BlbkFJzCHpZxM9Z9xqLD0dY5bO'"
      ]
     },
     "execution_count": 6,
     "metadata": {},
     "output_type": "execute_result"
    }
   ],
   "source": [
    "load_dotenv(find_dotenv())\n",
    "os.getenv(\"OPENAI_API_KEY\")"
   ]
  },
  {
   "cell_type": "code",
   "execution_count": 7,
   "id": "a2326e30",
   "metadata": {},
   "outputs": [
    {
     "data": {
      "text/plain": [
       "'usk-NwaUeTFbzbnpdSmPbMTWT3BlbkFJzCHpZxM9Z9xqLD0dY5bO'"
      ]
     },
     "execution_count": 7,
     "metadata": {},
     "output_type": "execute_result"
    }
   ],
   "source": [
    "get_openai_api_key()"
   ]
  },
  {
   "cell_type": "markdown",
   "id": "561dbf55",
   "metadata": {},
   "source": [
    "#### For reading the input file "
   ]
  },
  {
   "cell_type": "code",
   "execution_count": 8,
   "id": "31e2859b-596e-40b3-867b-f4d6e91f74bc",
   "metadata": {
    "height": 98,
    "tags": []
   },
   "outputs": [],
   "source": [
    "from llama_index import SimpleDirectoryReader\n",
    "documents = SimpleDirectoryReader(\n",
    "    input_files=[\"Main_Data.pdf\"]\n",
    ").load_data()"
   ]
  },
  {
   "cell_type": "markdown",
   "id": "ddf63c74",
   "metadata": {},
   "source": [
    "#### Concetanating every page together into a one large text"
   ]
  },
  {
   "cell_type": "code",
   "execution_count": 9,
   "id": "b4abc806-64f5-46bb-8c9f-6469ecb18d20",
   "metadata": {
    "height": 64,
    "tags": []
   },
   "outputs": [],
   "source": [
    "from llama_index import Document\n",
    "document = Document(text=\"\\n\\n\".join([doc.text for doc in documents]))"
   ]
  },
  {
   "cell_type": "code",
   "execution_count": null,
   "id": "afc2baff-5e8b-4733-9899-16f248777b23",
   "metadata": {
    "height": 183,
    "tags": []
   },
   "outputs": [],
   "source": [
    "from llama_index import VectorStoreIndex\n",
    "from llama_index import ServiceContext\n",
    "from llama_index.llms import OpenAI\n",
    "\n",
    "llm = OpenAI(model=\"gpt-3.5-turbo\", temperature=0.2) # the large language model that we want to use\n",
    "service_context = ServiceContext.from_defaults(\n",
    "    llm=llm, embed_model=\"local:BAAI/bge-small-en-v1.5\" #The embedding we wanna use is from Beijing Academy of Artificial Intelligence\n",
    ")\n",
    "index = VectorStoreIndex.from_documents([document],\n",
    "                                        service_context=service_context) # Indexing the vectors into the vector store"
   ]
  },
  {
   "cell_type": "code",
   "execution_count": null,
   "id": "ae52a26c-7d0c-44df-8043-4c7f19f794b9",
   "metadata": {
    "height": 30,
    "tags": []
   },
   "outputs": [],
   "source": [
    "query_engine = index.as_query_engine(similarity_top_k=10) #how many chunks the engine will give to model as the context"
   ]
  },
  {
   "cell_type": "markdown",
   "id": "d799686c",
   "metadata": {},
   "source": [
    "# Testing the model "
   ]
  },
  {
   "cell_type": "code",
   "execution_count": 14,
   "id": "9920f9ed",
   "metadata": {},
   "outputs": [
    {
     "name": "stdout",
     "output_type": "stream",
     "text": [
      "The performance of the 2023 BMW 320i is exhilarating. It is equipped with a two-liter four-cylinder turbo petrol engine that generates 135 kilowatts of power and 300 newton meters of torque. This engine delivers impressive acceleration, allowing the car to go from 0 to 100 kilometers per hour in just 7.4 seconds. The 320i also offers excellent fuel efficiency, with a combined cycle rating of 6.5 liters per 100 kilometers. Its power is seamlessly transmitted to the rear wheels through an 8-speed automatic transmission.\n"
     ]
    }
   ],
   "source": [
    "response = query_engine.query(\"Can you tell me about the performance of the 2023 BMW 320i?\")\n",
    "print(str(response))"
   ]
  },
  {
   "cell_type": "code",
   "execution_count": null,
   "id": "e1e8a769",
   "metadata": {},
   "outputs": [],
   "source": [
    "response = query_engine.query(\"What are the new features in the Mini Countryman 2021 compared to its previous year's model?\")\n",
    "print(str(response))"
   ]
  },
  {
   "cell_type": "code",
   "execution_count": null,
   "id": "a8e70aaa",
   "metadata": {},
   "outputs": [],
   "source": [
    "response = query_engine.query(\"What are some unique features of Jaguar cars?\")\n",
    "print(str(response))"
   ]
  },
  {
   "cell_type": "code",
   "execution_count": null,
   "id": "a65bbd73",
   "metadata": {},
   "outputs": [],
   "source": [
    "response = query_engine.query(\"Can you explain the infotainment system in the Jaguar F-Pace 2022?\")\n",
    "print(str(response))"
   ]
  },
  {
   "cell_type": "code",
   "execution_count": null,
   "id": "2b5445fa",
   "metadata": {},
   "outputs": [],
   "source": [
    "response = query_engine.query(\"What maintenance tips do you have for a BMW 320i owner?\")\n",
    "print(str(response))"
   ]
  },
  {
   "cell_type": "code",
   "execution_count": null,
   "id": "a33e2412",
   "metadata": {},
   "outputs": [],
   "source": [
    "# We asked this to show that our model is not hallucinating and can say \"i don't know\"\n",
    "response = query_engine.query(\"What are the common reliability issues reported for the 2023 BMW 320i?\") \n",
    "print(str(response))"
   ]
  },
  {
   "cell_type": "code",
   "execution_count": null,
   "id": "efead733",
   "metadata": {},
   "outputs": [],
   "source": [
    "# This is an important question because we are really want to give insight to our firms about their cars potential improvements\n",
    "response = query_engine.query(\"Are there any common complaints about the interior space or comfort level in the Mini Countryman 2021?\") \n",
    "print(str(response))"
   ]
  },
  {
   "cell_type": "code",
   "execution_count": null,
   "id": "e8390deb",
   "metadata": {},
   "outputs": [],
   "source": [
    "# This is one is also an important question. It shows that we can give suggestions to the users about the car and their potential topics that the customers may not be very satisfied if they don't know that specific information\n",
    "response = query_engine.query(\"What performance limitations have been noted in the reviews for the 2022 BMW 320i?\")\n",
    "print(str(response))"
   ]
  },
  {
   "cell_type": "code",
   "execution_count": null,
   "id": "e13a3fa7",
   "metadata": {},
   "outputs": [],
   "source": [
    "response = query_engine.query(\"Have there been any significant recalls or manufacturing issues with the Jaguar F-Pace 2022?\")\n",
    "print(str(response))"
   ]
  },
  {
   "cell_type": "code",
   "execution_count": null,
   "id": "d991fdeb",
   "metadata": {},
   "outputs": [],
   "source": [
    "response = query_engine.query(\"How environmentally friendly is the Mini Countryman 2021, especially in terms of emissions and fuel consumption?\")\n",
    "print(str(response))"
   ]
  },
  {
   "cell_type": "markdown",
   "id": "e50a1ac5",
   "metadata": {},
   "source": [
    "# Evaluation setup using TruLens"
   ]
  },
  {
   "cell_type": "markdown",
   "id": "3dcdd768",
   "metadata": {},
   "source": [
    "#### Reading the pre-defined evaluation questions"
   ]
  },
  {
   "cell_type": "code",
   "execution_count": 16,
   "id": "0ead7dc1-71b2-4001-918f-bf8d610fd3fd",
   "metadata": {
    "height": 132,
    "tags": []
   },
   "outputs": [
    {
     "name": "stdout",
     "output_type": "stream",
     "text": [
      "\"Can you tell me about the performance of the 2023 BMW 320i?\"\n",
      "\"What are the new features in the Mini Countryman 2021 compared to its previous year's model?\"\n",
      "\"What are some unique features of Jaguar cars?\"\n",
      "\"Can you explain the infotainment system in the Jaguar F-Pace 2022?\"\n",
      "\"What maintenance tips do you have for a BMW 320i owner?\"\n",
      "\"Are there any common complaints about the interior space or comfort level in the Mini Countryman 2021?\n",
      "\"What performance limitations have been noted in the reviews for the 2022 BMW 320i?\"\n",
      "\"How environmentally friendly is the Mini Countryman 2021, especially in terms of emissions and fuel consumption?\"\n"
     ]
    }
   ],
   "source": [
    "eval_questions = []\n",
    "with open('eval_questions.txt', 'r') as file:\n",
    "    for line in file:\n",
    "        # Remove newline character and convert to integer\n",
    "        item = line.strip()\n",
    "        print(item)\n",
    "        eval_questions.append(item)"
   ]
  },
  {
   "cell_type": "code",
   "execution_count": 17,
   "id": "c063c9c7-bf1e-4b24-9a22-d4281c0f954e",
   "metadata": {
    "height": 81,
    "tags": []
   },
   "outputs": [
    {
     "name": "stdout",
     "output_type": "stream",
     "text": [
      "🦑 Tru initialized with db url sqlite:///default.sqlite .\n",
      "🛑 Secret keys may be written to the database. See the `database_redact_keys` option of `Tru` to prevent this.\n"
     ]
    }
   ],
   "source": [
    "from trulens_eval import Tru\n",
    "tru = Tru()\n",
    "tru.reset_database()"
   ]
  },
  {
   "cell_type": "code",
   "execution_count": 18,
   "id": "4f754bed-d16f-4c8d-a1a1-b36096272570",
   "metadata": {
    "height": 81,
    "tags": []
   },
   "outputs": [],
   "source": [
    "from utils import get_prebuilt_trulens_recorder\n",
    "\n",
    "tru_recorder = get_prebuilt_trulens_recorder(query_engine,\n",
    "                                             app_id=\"Direct Query Engine\")"
   ]
  },
  {
   "cell_type": "code",
   "execution_count": null,
   "id": "4dbdfbcc-aac7-4805-9894-4fc016c66bf6",
   "metadata": {
    "height": 64,
    "tags": []
   },
   "outputs": [],
   "source": [
    "with tru_recorder as recording:\n",
    "    for question in eval_questions:\n",
    "        response = query_engine.query(question)\n",
    "        print(response)"
   ]
  },
  {
   "cell_type": "code",
   "execution_count": null,
   "id": "97e4a410",
   "metadata": {},
   "outputs": [],
   "source": [
    "records, feedback = tru.get_records_and_feedback(app_ids=[])\n",
    "# launches on http://localhost:8501/\n",
    "tru.run_dashboard()"
   ]
  },
  {
   "cell_type": "code",
   "execution_count": null,
   "id": "c1e9554f",
   "metadata": {},
   "outputs": [],
   "source": [
    "# launches on http://localhost:8501/\n",
    "tru.run_dashboard()"
   ]
  }
 ],
 "metadata": {
  "kernelspec": {
   "display_name": "Python 3 (ipykernel)",
   "language": "python",
   "name": "python3"
  },
  "language_info": {
   "codemirror_mode": {
    "name": "ipython",
    "version": 3
   },
   "file_extension": ".py",
   "mimetype": "text/x-python",
   "name": "python",
   "nbconvert_exporter": "python",
   "pygments_lexer": "ipython3",
   "version": "0.0.0"
  }
 },
 "nbformat": 4,
 "nbformat_minor": 5
}
