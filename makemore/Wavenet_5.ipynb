{
 "cells": [
  {
   "cell_type": "markdown",
   "metadata": {},
   "source": [
    "# makemore: part 3"
   ]
  },
  {
   "cell_type": "code",
   "execution_count": 2,
   "metadata": {},
   "outputs": [],
   "source": [
    "import torch\n",
    "import torch.nn.functional as F\n",
    "import matplotlib.pyplot as plt # for making figures\n",
    "%matplotlib inline"
   ]
  },
  {
   "cell_type": "code",
   "execution_count": 3,
   "metadata": {},
   "outputs": [
    {
     "data": {
      "text/plain": [
       "['emma', 'olivia', 'ava', 'isabella', 'sophia', 'charlotte', 'mia', 'amelia']"
      ]
     },
     "execution_count": 3,
     "metadata": {},
     "output_type": "execute_result"
    }
   ],
   "source": [
    "# read in all the words\n",
    "words = open('names.txt', 'r').read().splitlines()\n",
    "words[:8]"
   ]
  },
  {
   "cell_type": "code",
   "execution_count": 4,
   "metadata": {},
   "outputs": [
    {
     "data": {
      "text/plain": [
       "32033"
      ]
     },
     "execution_count": 4,
     "metadata": {},
     "output_type": "execute_result"
    }
   ],
   "source": [
    "len(words)"
   ]
  },
  {
   "cell_type": "code",
   "execution_count": 5,
   "metadata": {},
   "outputs": [
    {
     "name": "stdout",
     "output_type": "stream",
     "text": [
      "{1: 'a', 2: 'b', 3: 'c', 4: 'd', 5: 'e', 6: 'f', 7: 'g', 8: 'h', 9: 'i', 10: 'j', 11: 'k', 12: 'l', 13: 'm', 14: 'n', 15: 'o', 16: 'p', 17: 'q', 18: 'r', 19: 's', 20: 't', 21: 'u', 22: 'v', 23: 'w', 24: 'x', 25: 'y', 26: 'z', 0: '.'}\n",
      "27\n"
     ]
    }
   ],
   "source": [
    "# build the vocabulary of characters and mappings to/from integers\n",
    "chars = sorted(list(set(''.join(words))))\n",
    "stoi = {s:i+1 for i,s in enumerate(chars)}\n",
    "stoi['.'] = 0\n",
    "itos = {i:s for s,i in stoi.items()}\n",
    "vocab_size = len(itos)\n",
    "print(itos)\n",
    "print(vocab_size)"
   ]
  },
  {
   "cell_type": "code",
   "execution_count": 6,
   "metadata": {},
   "outputs": [],
   "source": [
    "# shuffle up the words\n",
    "import random\n",
    "random.seed(42)\n",
    "random.shuffle(words)"
   ]
  },
  {
   "cell_type": "code",
   "execution_count": 7,
   "metadata": {},
   "outputs": [
    {
     "name": "stdout",
     "output_type": "stream",
     "text": [
      "torch.Size([182580, 8]) torch.Size([182580])\n",
      "torch.Size([22767, 8]) torch.Size([22767])\n",
      "torch.Size([22799, 8]) torch.Size([22799])\n"
     ]
    }
   ],
   "source": [
    "# build the dataset\n",
    "block_size = 8# context length: how many characters do we take to predict the next one?\n",
    "\n",
    "def build_dataset(words):  \n",
    "  X, Y = [], []\n",
    "  \n",
    "  for w in words:\n",
    "    context = [0] * block_size\n",
    "    for ch in w + '.':\n",
    "      ix = stoi[ch]\n",
    "      X.append(context)\n",
    "      Y.append(ix)\n",
    "      context = context[1:] + [ix] # crop and append\n",
    "\n",
    "  X = torch.tensor(X)\n",
    "  Y = torch.tensor(Y)\n",
    "  print(X.shape, Y.shape)\n",
    "  return X, Y\n",
    "\n",
    "import random\n",
    "random.seed(42)\n",
    "random.shuffle(words)\n",
    "n1 = int(0.8*len(words))\n",
    "n2 = int(0.9*len(words))\n",
    "\n",
    "Xtr,  Ytr  = build_dataset(words[:n1])     # 80%\n",
    "Xdev, Ydev = build_dataset(words[n1:n2])   # 10%\n",
    "Xte,  Yte  = build_dataset(words[n2:])     # 10%\n"
   ]
  },
  {
   "cell_type": "code",
   "execution_count": 8,
   "metadata": {},
   "outputs": [
    {
     "name": "stdout",
     "output_type": "stream",
     "text": [
      "........ -----> e\n",
      ".......e -----> b\n",
      "......eb -----> r\n",
      ".....ebr -----> i\n",
      "....ebri -----> m\n",
      "...ebrim -----> a\n",
      "..ebrima -----> .\n",
      "........ -----> h\n",
      ".......h -----> i\n",
      "......hi -----> l\n",
      ".....hil -----> t\n",
      "....hilt -----> o\n",
      "...hilto -----> n\n",
      "..hilton -----> .\n",
      "........ -----> j\n",
      ".......j -----> h\n",
      "......jh -----> e\n",
      ".....jhe -----> n\n",
      "....jhen -----> e\n",
      "...jhene -----> .\n"
     ]
    }
   ],
   "source": [
    "for x,y in zip(Xtr[:20],Ytr[:20]):\n",
    "   print(''.join(itos[ix.item()] for ix in x)+ ' ----->',itos[y.item()])"
   ]
  },
  {
   "cell_type": "markdown",
   "metadata": {},
   "source": [
    "## loss log\n",
    "\n",
    "### original:\n",
    "train 2.1245384216308594\n",
    "val   2.168196439743042\n",
    "\n",
    "### fix softmax confidently wrong:\n",
    "train 2.07\n",
    "val   2.13\n",
    "\n",
    "### fix tanh layer too saturated at init:\n",
    "train 2.0355966091156006\n",
    "val   2.1026785373687744\n",
    "\n",
    "### use semi-principled \"kaiming init\" instead of hacky init:\n",
    "train 2.0376641750335693\n",
    "val   2.106989622116089\n",
    "\n",
    "### add batch norm layer\n",
    "train 2.0668270587921143\n",
    "val 2.104844808578491\n"
   ]
  },
  {
   "cell_type": "code",
   "execution_count": 9,
   "metadata": {},
   "outputs": [],
   "source": [
    "# SUMMARY + PYTORCHIFYING -----------"
   ]
  },
  {
   "cell_type": "code",
   "execution_count": 10,
   "metadata": {},
   "outputs": [],
   "source": [
    "# Let's train a deeper network\n",
    "# The classes we create here are the same API as nn.Module in PyTorch\n",
    "\n",
    "class Linear:\n",
    "  \n",
    "  def __init__(self, fan_in, fan_out, bias=True):\n",
    "    self.weight = torch.randn((fan_in, fan_out)) / fan_in**0.5\n",
    "    self.bias = torch.zeros(fan_out) if bias else None\n",
    "  \n",
    "  def __call__(self, x):\n",
    "    self.out = x @ self.weight\n",
    "    if self.bias is not None:\n",
    "      self.out += self.bias\n",
    "    return self.out\n",
    "  \n",
    "  def parameters(self):\n",
    "    return [self.weight] + ([] if self.bias is None else [self.bias])\n",
    "\n",
    "\n",
    "class BatchNorm1d:\n",
    "  \n",
    "  def __init__(self, dim, eps=1e-5, momentum=0.1):\n",
    "    self.eps = eps\n",
    "    self.momentum = momentum\n",
    "    self.training = True\n",
    "    # parameters (trained with backprop)\n",
    "    self.gamma = torch.ones(dim)\n",
    "    self.beta = torch.zeros(dim)\n",
    "    # buffers (trained with a running 'momentum update')\n",
    "    self.running_mean = torch.zeros(dim)\n",
    "    self.running_var = torch.ones(dim)\n",
    "  \n",
    "  def __call__(self, x):\n",
    "    # calculate the forward pass\n",
    "    if self.training:\n",
    "      if x.ndim==2:\n",
    "        dim=0\n",
    "      elif x.ndim==3:\n",
    "        dim=(0,1)\n",
    "      \n",
    "      xmean = x.mean(dim, keepdim=True) # batch mean\n",
    "      xvar = x.var(dim, keepdim=True) # batch variance\n",
    "    else:\n",
    "      xmean = self.running_mean\n",
    "      xvar = self.running_var\n",
    "\n",
    "    xhat = (x - xmean) / torch.sqrt(xvar + self.eps) # normalize to unit variance\n",
    "    self.out = self.gamma * xhat + self.beta\n",
    "    # update the buffers\n",
    "    if self.training:\n",
    "      with torch.no_grad():\n",
    "        self.running_mean = (1 - self.momentum) * self.running_mean + self.momentum * xmean\n",
    "        self.running_var = (1 - self.momentum) * self.running_var + self.momentum * xvar\n",
    "    return self.out\n",
    "  \n",
    "  def parameters(self):\n",
    "    return [self.gamma, self.beta]\n",
    "#----------------------------------------------------------------------------------------------------------\n",
    "\n",
    "class Tanh:\n",
    "  def __call__(self, x):\n",
    "    self.out = torch.tanh(x)\n",
    "    return self.out\n",
    "  def parameters(self):\n",
    "    return []\n",
    "#----------------------------------------------------------------------------------------------------------\n",
    "\n",
    "class Embedding:\n",
    "  def __init__(self,num_embeddings,embedding_dim):\n",
    "    self.weight=torch.randn((num_embeddings,embedding_dim))\n",
    "\n",
    "  def __call__(self,IX):\n",
    "    self.out= self.weight[IX]\n",
    "    return self.out\n",
    "  \n",
    "  def parameters(self):\n",
    "    return [self.weight]\n",
    "\n",
    "\n",
    "class FlattenConsecutive:\n",
    "  def __init__(self,n):\n",
    "    self.n=n\n",
    "\n",
    "  def __call__(self,x):\n",
    "\n",
    "    B,T,C= x.shape\n",
    "    x=x.view(B, T//self.n, C*self.n)\n",
    "    if x.shape[1]==1:\n",
    "      x=x.squeeze(1)\n",
    "    self.out=x\n",
    "    return self.out\n",
    "  \n",
    "  def parameters(self):\n",
    "    return []\n",
    "\n",
    "# ------------------------------------------------------------------------------\n",
    "\n",
    "class Sequential:\n",
    "\n",
    "  def __init__(self,layers):\n",
    "    self.layers=layers\n",
    "\n",
    "  def __call__ (self,x):\n",
    "    for layer in self.layers:\n",
    "      x=layer(x)\n",
    "    self.out=x\n",
    "    return self.out\n",
    "  \n",
    "  def parameters(self):\n",
    "\n",
    "    return [p for layer in self.layers for p in layer.parameters()]"
   ]
  },
  {
   "cell_type": "code",
   "execution_count": 11,
   "metadata": {},
   "outputs": [
    {
     "data": {
      "text/plain": [
       "<torch._C.Generator at 0x271ff3414f0>"
      ]
     },
     "execution_count": 11,
     "metadata": {},
     "output_type": "execute_result"
    }
   ],
   "source": [
    "torch.manual_seed(42)"
   ]
  },
  {
   "cell_type": "code",
   "execution_count": 12,
   "metadata": {},
   "outputs": [
    {
     "name": "stdout",
     "output_type": "stream",
     "text": [
      "22397\n"
     ]
    }
   ],
   "source": [
    "n_embd = 10 # the dimensionality of the character embedding vectors\n",
    "n_hidden = 68 # the number of neurons in the hidden layer of the MLP\n",
    "\n",
    "\n",
    "model= Sequential([\n",
    "  Embedding(vocab_size,n_embd),\n",
    "  FlattenConsecutive(2), Linear(n_embd * 2, n_hidden, bias=False), BatchNorm1d(n_hidden), Tanh(),\n",
    "  FlattenConsecutive(2), Linear(n_hidden * 2, n_hidden, bias=False), BatchNorm1d(n_hidden), Tanh(),\n",
    "  FlattenConsecutive(2), Linear(n_hidden * 2, n_hidden, bias=False), BatchNorm1d(n_hidden), Tanh(),\n",
    "  Linear(           n_hidden, vocab_size),\n",
    "])\n",
    "\n",
    "with torch.no_grad():\n",
    "  # last layer: make less confident\n",
    "  model.layers[-1].weight *= 0.1\n",
    " \n",
    "\n",
    "parameters = model.parameters()\n",
    "print(sum(p.nelement() for p in parameters)) # number of parameters in total\n",
    "for p in parameters:\n",
    "  p.requires_grad = True"
   ]
  },
  {
   "cell_type": "markdown",
   "metadata": {},
   "source": [
    "-------------------------------------------------------------------------------------------------------------------"
   ]
  },
  {
   "cell_type": "markdown",
   "metadata": {},
   "source": [
    "# Practical Playground"
   ]
  },
  {
   "cell_type": "code",
   "execution_count": 13,
   "metadata": {},
   "outputs": [
    {
     "name": "stdout",
     "output_type": "stream",
     "text": [
      "torch.Size([32, 8])\n"
     ]
    }
   ],
   "source": [
    "ix= torch.randint(0,Xtr.shape[0],(32,))\n",
    "Xb,Yb=Xtr[ix],Ytr[ix]\n",
    "logits=model(Xb)\n",
    "print(Xb.shape)"
   ]
  },
  {
   "cell_type": "code",
   "execution_count": 14,
   "metadata": {},
   "outputs": [
    {
     "name": "stdout",
     "output_type": "stream",
     "text": [
      "Embedding : (32, 8, 10)\n",
      "FlattenConsecutive : (32, 4, 20)\n",
      "Linear : (32, 4, 68)\n",
      "BatchNorm1d : (32, 4, 68)\n",
      "Tanh : (32, 4, 68)\n",
      "FlattenConsecutive : (32, 2, 136)\n",
      "Linear : (32, 2, 68)\n",
      "BatchNorm1d : (32, 2, 68)\n",
      "Tanh : (32, 2, 68)\n",
      "FlattenConsecutive : (32, 136)\n",
      "Linear : (32, 68)\n",
      "BatchNorm1d : (32, 68)\n",
      "Tanh : (32, 68)\n",
      "Linear : (32, 27)\n"
     ]
    }
   ],
   "source": [
    "for layer in model.layers:\n",
    "    print(layer.\n",
    "    __class__.__name__,':',tuple(layer.out.shape))"
   ]
  },
  {
   "cell_type": "code",
   "execution_count": 19,
   "metadata": {},
   "outputs": [
    {
     "data": {
      "text/plain": [
       "(torch.Size([32, 8, 10]),\n",
       " tensor([[[ 1.9269,  1.4873,  0.9007,  ..., -1.6047, -0.7521,  1.6487],\n",
       "          [ 1.9269,  1.4873,  0.9007,  ..., -1.6047, -0.7521,  1.6487],\n",
       "          [ 1.9269,  1.4873,  0.9007,  ..., -1.6047, -0.7521,  1.6487],\n",
       "          ...,\n",
       "          [ 0.0109, -0.3387, -1.3407,  ...,  0.0516,  0.7440, -0.4816],\n",
       "          [-1.0495,  0.6039, -1.7223,  ...,  0.4880,  0.7846,  0.0286],\n",
       "          [-0.0127,  0.2408,  0.1325,  ...,  0.4114,  1.9312,  1.0119]],\n",
       " \n",
       "         [[ 1.9269,  1.4873,  0.9007,  ..., -1.6047, -0.7521,  1.6487],\n",
       "          [ 1.9269,  1.4873,  0.9007,  ..., -1.6047, -0.7521,  1.6487],\n",
       "          [ 1.9269,  1.4873,  0.9007,  ..., -1.6047, -0.7521,  1.6487],\n",
       "          ...,\n",
       "          [-0.0127,  0.2408,  0.1325,  ...,  0.4114,  1.9312,  1.0119],\n",
       "          [-0.2516,  0.8599, -1.3847,  ..., -0.4245,  0.3057, -0.7746],\n",
       "          [-0.7328,  0.1043,  0.3488,  ..., -0.4175, -1.1955,  0.8123]],\n",
       " \n",
       "         [[ 1.9269,  1.4873,  0.9007,  ..., -1.6047, -0.7521,  1.6487],\n",
       "          [ 1.9269,  1.4873,  0.9007,  ..., -1.6047, -0.7521,  1.6487],\n",
       "          [ 1.9269,  1.4873,  0.9007,  ..., -1.6047, -0.7521,  1.6487],\n",
       "          ...,\n",
       "          [-0.9319, -1.5910, -1.1360,  ...,  0.1279,  1.0229, -0.5558],\n",
       "          [-1.4364, -1.1299, -0.1360,  ...,  0.0186, -1.8058,  0.9254],\n",
       "          [ 0.0780,  0.5258, -0.4880,  ...,  0.0360, -0.0635,  0.6756]],\n",
       " \n",
       "         ...,\n",
       " \n",
       "         [[ 1.9269,  1.4873,  0.9007,  ..., -1.6047, -0.7521,  1.6487],\n",
       "          [ 1.9269,  1.4873,  0.9007,  ..., -1.6047, -0.7521,  1.6487],\n",
       "          [ 1.9269,  1.4873,  0.9007,  ..., -1.6047, -0.7521,  1.6487],\n",
       "          ...,\n",
       "          [ 0.0109, -0.3387, -1.3407,  ...,  0.0516,  0.7440, -0.4816],\n",
       "          [-0.3925, -1.4036, -0.7279,  ..., -0.1596, -0.4974,  0.4396],\n",
       "          [-0.3753,  1.0331, -0.6867,  ...,  1.4506,  0.2695, -0.2104]],\n",
       " \n",
       "         [[ 1.9269,  1.4873,  0.9007,  ..., -1.6047, -0.7521,  1.6487],\n",
       "          [ 1.9269,  1.4873,  0.9007,  ..., -1.6047, -0.7521,  1.6487],\n",
       "          [ 1.9269,  1.4873,  0.9007,  ..., -1.6047, -0.7521,  1.6487],\n",
       "          ...,\n",
       "          [ 1.9269,  1.4873,  0.9007,  ..., -1.6047, -0.7521,  1.6487],\n",
       "          [ 1.9269,  1.4873,  0.9007,  ..., -1.6047, -0.7521,  1.6487],\n",
       "          [-1.0546,  1.2780, -0.1722,  ..., -0.6417, -2.2064, -0.7508]],\n",
       " \n",
       "         [[ 1.9269,  1.4873,  0.9007,  ..., -1.6047, -0.7521,  1.6487],\n",
       "          [ 1.9269,  1.4873,  0.9007,  ..., -1.6047, -0.7521,  1.6487],\n",
       "          [ 1.9269,  1.4873,  0.9007,  ..., -1.6047, -0.7521,  1.6487],\n",
       "          ...,\n",
       "          [-0.7328,  0.1043,  0.3488,  ..., -0.4175, -1.1955,  0.8123],\n",
       "          [-1.9006,  0.2286,  0.0249,  ..., -1.0939, -1.6022,  1.3529],\n",
       "          [ 0.0109, -0.3387, -1.3407,  ...,  0.0516,  0.7440, -0.4816]]],\n",
       "        grad_fn=<IndexBackward0>))"
      ]
     },
     "execution_count": 19,
     "metadata": {},
     "output_type": "execute_result"
    }
   ],
   "source": [
    "model.layers[0].out.shape,model.layers[0].out"
   ]
  },
  {
   "cell_type": "code",
   "execution_count": 28,
   "metadata": {},
   "outputs": [
    {
     "data": {
      "text/plain": [
       "tensor([[ 0,  0,  0,  0, 16,  8,  9, 12],\n",
       "        [ 0,  0,  0, 13,  1, 12,  3, 15],\n",
       "        [ 0,  0,  0,  8,  5, 18, 13,  5],\n",
       "        [ 1, 18,  9, 19, 20,  5, 12, 12],\n",
       "        [ 0,  0,  0,  0,  0,  0,  0,  0],\n",
       "        [ 0,  0,  0,  0,  5, 19, 13,  1],\n",
       "        [ 0,  0,  0,  0,  0,  0,  4,  5],\n",
       "        [ 0,  0,  0,  0,  0,  0,  0, 13],\n",
       "        [ 0,  0,  0,  0,  0,  0,  0, 19],\n",
       "        [ 0,  0, 18, 21,  5,  7,  5, 18],\n",
       "        [ 0,  0,  0, 12, 21, 14, 14,  1],\n",
       "        [ 0,  0,  0,  0,  0,  0,  8, 15],\n",
       "        [ 0,  0,  0,  8,  1, 23, 23,  1],\n",
       "        [ 0,  0,  0,  0,  0,  0,  0,  1],\n",
       "        [ 0,  0,  0,  0,  0,  0,  0, 11],\n",
       "        [ 0,  0,  0,  0,  0, 14,  1,  8],\n",
       "        [ 0,  0,  0,  0,  0,  0,  0, 20],\n",
       "        [ 0,  0,  0, 10,  8,  5, 12,  1],\n",
       "        [ 0,  0,  0,  0,  0,  0,  8,  1],\n",
       "        [ 0,  0,  0,  0,  0, 20,  5,  9],\n",
       "        [ 0,  0,  0,  0,  0,  0,  0, 23],\n",
       "        [ 0,  0, 11,  1, 18, 19,  9, 14],\n",
       "        [ 0,  0,  0,  0,  2, 18,  1,  5],\n",
       "        [ 0,  0,  0, 12,  9, 14, 23, 15],\n",
       "        [ 0,  0,  0, 11,  5, 12, 12, 25],\n",
       "        [ 0,  0,  0,  0,  0,  0,  0, 19],\n",
       "        [19,  1, 13, 25, 21, 11, 20,  8],\n",
       "        [ 0, 12,  5,  1,  8, 18, 15, 19],\n",
       "        [ 0,  0,  0,  0,  0,  0,  0, 14],\n",
       "        [ 0,  0,  0,  0,  0,  8,  1, 14],\n",
       "        [ 0,  0,  0,  0,  0,  0,  0,  7],\n",
       "        [ 0,  0,  0,  0, 19, 15, 16,  8]])"
      ]
     },
     "execution_count": 28,
     "metadata": {},
     "output_type": "execute_result"
    }
   ],
   "source": [
    "Xb"
   ]
  },
  {
   "cell_type": "code",
   "execution_count": 29,
   "metadata": {},
   "outputs": [
    {
     "data": {
      "text/plain": [
       "tensor([[[ 1.6811,  0.9196, -0.1452,  0.7939,  0.7806, -0.5958,  0.0962,\n",
       "           0.6072, -2.1348, -0.6179],\n",
       "         [ 1.1783, -0.3115,  1.6295, -0.5335, -0.8451, -0.7105, -0.1614,\n",
       "           0.1468, -0.6465,  1.7719],\n",
       "         [-0.1940, -1.3313, -0.6194, -0.1997, -0.9896, -1.0748, -0.1746,\n",
       "           0.5415,  0.4489,  0.5218],\n",
       "         [-1.1953, -0.0102, -1.5202, -0.7547, -0.4012,  0.1055, -0.4437,\n",
       "           0.8306, -0.0216,  0.7148],\n",
       "         [-0.6868,  0.7908,  0.9425, -0.0107,  1.2252,  0.5994, -1.4404,\n",
       "           0.8617,  0.5880,  1.3349],\n",
       "         [-0.7089, -0.5003,  1.7600, -0.6248, -1.6466, -0.8005, -2.6546,\n",
       "          -0.8328,  0.2774,  0.5556],\n",
       "         [ 0.0994,  1.5964, -1.5129,  0.7811, -0.2720,  1.0166,  1.5994,\n",
       "           0.0723, -0.4147,  2.6771],\n",
       "         [ 0.8279,  0.1961, -0.5459, -0.7618, -0.5267,  0.9253, -0.5575,\n",
       "          -1.1572, -1.4551, -0.8541]],\n",
       "\n",
       "        [[ 1.0889, -1.2416,  0.3839,  0.3760, -0.2754,  0.8118,  0.5787,\n",
       "          -0.7361,  0.4087, -0.5638],\n",
       "         [-0.0100, -0.5870, -2.0405, -0.1455, -0.6462,  1.3480, -1.1674,\n",
       "          -0.7913, -0.2607, -0.1118],\n",
       "         [ 1.4278, -0.2778,  1.7913,  0.3436,  1.7040, -0.4064,  1.1305,\n",
       "          -0.2013,  0.4427, -1.7910],\n",
       "         [ 0.5610, -1.4553, -0.1302,  0.8826, -1.6773, -0.5514, -0.6743,\n",
       "           1.0380, -0.6187,  0.0951],\n",
       "         [ 1.1791, -0.2073,  0.3317, -0.4147,  0.4185, -0.8467, -0.8432,\n",
       "          -0.0930,  0.9109, -0.8428],\n",
       "         [-0.4637, -0.1415, -1.6984,  1.1739, -0.4124, -0.0632,  0.4292,\n",
       "           0.3656,  0.4471,  1.4258],\n",
       "         [ 0.0716, -1.5252,  1.2941,  0.5630, -0.0366, -0.4483,  0.0491,\n",
       "          -0.1996, -0.6848, -0.5747],\n",
       "         [ 0.5894, -0.8177, -1.0763,  1.2204,  0.2668, -0.0437,  0.2849,\n",
       "          -0.1831, -0.1174,  0.5628]],\n",
       "\n",
       "        [[-1.2865,  1.1348,  0.9647, -1.1885,  0.5077,  0.5767, -0.3976,\n",
       "          -1.3859,  1.1010,  0.7809],\n",
       "         [-0.4609,  1.3425, -0.6298,  0.0086,  1.5912, -0.9820, -0.8621,\n",
       "           0.8634, -1.6157,  0.8626],\n",
       "         [-0.4623,  0.3450,  1.1736, -0.1171, -2.5471,  0.0253,  1.2107,\n",
       "          -0.4985,  1.8605, -0.3411],\n",
       "         [ 0.8464,  1.1971, -0.5369,  1.6000,  1.5878,  0.4963,  1.4010,\n",
       "           0.0769, -1.1527, -0.0213],\n",
       "         [-1.8097,  0.0316, -1.7577, -0.4216,  0.6566,  0.5742, -0.5090,\n",
       "           0.0938, -1.8026,  1.4709],\n",
       "         [ 0.2967,  0.1509, -0.4122, -0.1204,  1.2348,  3.0236, -2.2875,\n",
       "          -1.4410, -0.5061, -1.0633],\n",
       "         [-0.2999, -0.9555,  0.7613,  1.0080, -0.6818, -0.5505, -0.4636,\n",
       "          -0.3996, -2.6090,  1.0544],\n",
       "         [-0.2937, -1.0705, -0.0245, -0.7597,  0.7774, -0.7330,  0.4035,\n",
       "           0.3242, -0.2501,  1.0168]]])"
      ]
     },
     "execution_count": 29,
     "metadata": {},
     "output_type": "execute_result"
    }
   ],
   "source": [
    "e=torch.randn(3,8,10)\n",
    "emean=e.mean(0,keepdim=True)\n",
    "e\n"
   ]
  },
  {
   "cell_type": "markdown",
   "metadata": {},
   "source": [
    "--------------------------------------------------------------------------------------------------"
   ]
  },
  {
   "cell_type": "code",
   "execution_count": 30,
   "metadata": {},
   "outputs": [
    {
     "name": "stdout",
     "output_type": "stream",
     "text": [
      "      0/ 200000: 3.2991\n",
      "  10000/ 200000: 2.0042\n",
      "  20000/ 200000: 2.2487\n",
      "  30000/ 200000: 2.2309\n",
      "  40000/ 200000: 2.6951\n",
      "  50000/ 200000: 2.0993\n",
      "  60000/ 200000: 1.8203\n",
      "  70000/ 200000: 1.7755\n",
      "  80000/ 200000: 1.9377\n",
      "  90000/ 200000: 1.8271\n",
      " 100000/ 200000: 2.0159\n",
      " 110000/ 200000: 1.7789\n",
      " 120000/ 200000: 1.9555\n",
      " 130000/ 200000: 2.0804\n",
      " 140000/ 200000: 2.0185\n",
      " 150000/ 200000: 2.0426\n",
      " 160000/ 200000: 1.4640\n",
      " 170000/ 200000: 1.8538\n",
      " 180000/ 200000: 1.9945\n",
      " 190000/ 200000: 1.5760\n"
     ]
    }
   ],
   "source": [
    "# same optimization as last time\n",
    "max_steps = 200000\n",
    "batch_size = 32\n",
    "lossi = []\n",
    "\n",
    "for i in range(max_steps):\n",
    "  \n",
    "  # minibatch construct\n",
    "  ix = torch.randint(0, Xtr.shape[0], (batch_size,))\n",
    "  Xb, Yb = Xtr[ix], Ytr[ix] # batch X,Y\n",
    "  \n",
    "  # forward pass\n",
    "  logits= model(Xb)\n",
    " \n",
    "  loss = F.cross_entropy(logits, Yb) # loss function\n",
    "  \n",
    "  # backward pass\n",
    "  for p in parameters:\n",
    "    p.grad = None\n",
    "  loss.backward()\n",
    "  \n",
    "  # update\n",
    "  lr = 0.1 if i < 150000 else 0.01 # step learning rate decay\n",
    "  for p in parameters:\n",
    "    p.data += -lr * p.grad\n",
    "\n",
    "  # track stats\n",
    "  if i % 10000 == 0: # print every once in a while\n",
    "    print(f'{i:7d}/{max_steps:7d}: {loss.item():.4f}')\n",
    "  lossi.append(loss.log10().item())\n",
    "\n",
    "\n",
    "\n",
    "  # if i >= 1000:\n",
    "  #   break # AFTER_DEBUG: would take out obviously to run full optimization"
   ]
  },
  {
   "cell_type": "code",
   "execution_count": 31,
   "metadata": {},
   "outputs": [
    {
     "data": {
      "text/plain": [
       "[<matplotlib.lines.Line2D at 0x2718c30ceb0>]"
      ]
     },
     "execution_count": 31,
     "metadata": {},
     "output_type": "execute_result"
    },
    {
     "data": {
      "image/png": "[encoded data removed]",
      "text/plain": [
       "<Figure size 640x480 with 1 Axes>"
      ]
     },
     "metadata": {},
     "output_type": "display_data"
    }
   ],
   "source": [
    "plt.plot(torch.tensor(lossi).view(-1,1000).mean(1))"
   ]
  },
  {
   "cell_type": "code",
   "execution_count": 32,
   "metadata": {},
   "outputs": [],
   "source": [
    "for layer in model.layers:\n",
    "    layer.training=False"
   ]
  },
  {
   "cell_type": "code",
   "execution_count": 33,
   "metadata": {},
   "outputs": [
    {
     "name": "stdout",
     "output_type": "stream",
     "text": [
      "train 1.9114603996276855\n",
      "val 2.019707441329956\n"
     ]
    }
   ],
   "source": [
    "@torch.no_grad() # this decorator disables gradient tracking\n",
    "def split_loss(split):\n",
    "  x,y = {\n",
    "    'train': (Xtr, Ytr),\n",
    "    'val': (Xdev, Ydev),\n",
    "    'test': (Xte, Yte),\n",
    "  }[split]\n",
    "  logits=model(x)\n",
    "  loss = F.cross_entropy(logits, y)\n",
    "  print(split, loss.item())\n",
    "\n",
    "# put layers into eval mode\n",
    "for layer in model.layers:\n",
    "  layer.training = False\n",
    "split_loss('train')\n",
    "split_loss('val')"
   ]
  },
  {
   "cell_type": "code",
   "execution_count": 46,
   "metadata": {},
   "outputs": [
    {
     "name": "stdout",
     "output_type": "stream",
     "text": [
      "........ -----> h\n",
      ".......h -----> i\n",
      "......hi -----> l\n",
      ".....hil -----> t\n",
      "....hilt -----> o\n",
      "...hilto -----> n\n",
      "..hilton -----> .\n"
     ]
    }
   ],
   "source": [
    "for x,y in zip(Xtr[7:14],Ytr[7:14]):\n",
    "   print(''.join(itos[ix.item()] for ix in x)+ ' ----->',itos[y.item()])"
   ]
  },
  {
   "cell_type": "code",
   "execution_count": 53,
   "metadata": {},
   "outputs": [
    {
     "data": {
      "text/plain": [
       "torch.Size([8])"
      ]
     },
     "execution_count": 53,
     "metadata": {},
     "output_type": "execute_result"
    }
   ],
   "source": [
    "Xtr[7].shape"
   ]
  },
  {
   "cell_type": "code",
   "execution_count": 55,
   "metadata": {},
   "outputs": [
    {
     "data": {
      "text/plain": [
       "torch.Size([1, 8])"
      ]
     },
     "execution_count": 55,
     "metadata": {},
     "output_type": "execute_result"
    }
   ],
   "source": [
    "Xtr[[7]].shape"
   ]
  },
  {
   "cell_type": "code",
   "execution_count": 70,
   "metadata": {},
   "outputs": [
    {
     "data": {
      "text/plain": [
       "tensor([[-4.8555,  1.9070,  0.7547,  0.9180,  0.9731,  0.7799, -0.4821, -0.0747,\n",
       "          0.4174, -0.1544,  1.3219,  1.5258,  0.8277,  1.3918,  0.4646, -0.5782,\n",
       "         -0.3750, -2.1871,  1.1215,  0.9405,  0.7115, -2.2707, -0.9106, -0.9843,\n",
       "         -1.7669, -0.3662,  0.1877]], grad_fn=<AddBackward0>)"
      ]
     },
     "execution_count": 70,
     "metadata": {},
     "output_type": "execute_result"
    }
   ],
   "source": [
    "#Forward single example\n",
    "logits=model(Xtr[[7]])\n",
    "logits"
   ]
  },
  {
   "cell_type": "code",
   "execution_count": 79,
   "metadata": {},
   "outputs": [
    {
     "data": {
      "text/plain": [
       "torch.Size([8, 27])"
      ]
     },
     "execution_count": 79,
     "metadata": {},
     "output_type": "execute_result"
    }
   ],
   "source": [
    "# Forward all of them \n",
    "logits=torch.zeros(8,27)\n",
    "for i in range(8):\n",
    "    logits[i]=model(Xtr[[7+i]])\n",
    "logits.shape"
   ]
  },
  {
   "cell_type": "code",
   "execution_count": 80,
   "metadata": {},
   "outputs": [
    {
     "data": {
      "text/plain": [
       "tensor([[-4.8555,  1.9070,  0.7547,  0.9180,  0.9731,  0.7799, -0.4821, -0.0747,\n",
       "          0.4174, -0.1544,  1.3219,  1.5258,  0.8277,  1.3918,  0.4646, -0.5782,\n",
       "         -0.3750, -2.1871,  1.1215,  0.9405,  0.7115, -2.2707, -0.9106, -0.9843,\n",
       "         -1.7669, -0.3662,  0.1877],\n",
       "        [-2.5598,  6.3612, -2.8399, -1.9341, -3.4623,  5.3826, -0.9273, -3.6024,\n",
       "         -0.5678,  4.1008, -1.7896, -3.0619, -0.1269,  0.0275, -0.0877,  4.7088,\n",
       "         -1.9263, -3.9405,  2.1972, -1.5999, -1.5426,  4.6757,  0.3489,  1.2764,\n",
       "         -0.8941,  2.7691, -0.9614],\n",
       "        [-5.2327,  2.2605,  0.2870, -0.5925,  1.6696,  1.1281, -1.8818,  1.1001,\n",
       "         -1.9291, -0.8423, -0.9947,  1.6845,  3.0320,  2.3115,  3.1001,  1.6535,\n",
       "         -1.9504, -1.8145,  2.5947,  0.5499,  0.1760, -3.4032,  1.6250, -3.4217,\n",
       "         -2.7982,  1.2510,  0.2549],\n",
       "        [-1.5831,  2.5435,  1.5670,  0.6259,  2.5717,  1.9172, -0.4811, -0.9582,\n",
       "         -2.4963,  2.4674, -2.5687,  0.2850,  2.8416,  0.3443, -2.2050,  1.7766,\n",
       "         -0.1258, -3.6627, -2.8036,  1.9358,  1.5539, -0.3736,  1.4404, -4.0081,\n",
       "         -1.6714,  1.7071, -0.2135],\n",
       "        [ 0.7783,  2.9064, -1.9794,  0.4304, -0.2355,  2.7780, -2.2238, -1.3705,\n",
       "          1.4336,  2.4535, -0.4451, -1.7344, -0.1686, -2.5164, -0.2958,  4.6549,\n",
       "         -0.7166, -3.7091,  1.6940, -2.3760,  0.7858,  1.3678, -2.1308, -0.8062,\n",
       "         -1.3117,  2.1229,  0.7073],\n",
       "        [ 2.6464,  1.8899,  0.6173, -3.5052, -0.1435,  0.1608,  1.1959, -2.4011,\n",
       "         -1.2735, -0.9119, -0.8587, -2.9688, -0.9246,  3.1487,  6.4317,  1.0659,\n",
       "          1.8643, -3.4559,  3.8433,  1.0371, -1.0600,  1.9949, -2.1357, -0.7726,\n",
       "         -3.1555, -1.3222, -1.4087],\n",
       "        [ 8.2570,  3.2915, -0.7361,  0.9000,  3.2192,  2.7628, -2.1831,  0.1165,\n",
       "         -1.0935,  3.1327, -1.6553, -1.1694,  1.3884, -1.2366,  1.2010,  1.0093,\n",
       "         -5.6750, -4.1344,  0.3058,  1.2875,  0.9056,  0.0789, -1.5279, -5.8733,\n",
       "         -3.9745,  1.4090,  0.3499],\n",
       "        [-4.8555,  1.9070,  0.7547,  0.9180,  0.9731,  0.7799, -0.4821, -0.0747,\n",
       "          0.4174, -0.1544,  1.3219,  1.5258,  0.8277,  1.3918,  0.4646, -0.5782,\n",
       "         -0.3750, -2.1871,  1.1215,  0.9405,  0.7115, -2.2707, -0.9106, -0.9843,\n",
       "         -1.7669, -0.3662,  0.1877]], grad_fn=<CopySlices>)"
      ]
     },
     "execution_count": 80,
     "metadata": {},
     "output_type": "execute_result"
    }
   ],
   "source": [
    "logits"
   ]
  },
  {
   "cell_type": "markdown",
   "metadata": {},
   "source": [
    "### performance log\n",
    "\n",
    "- original (3 character context + 200 hidden neurons, 12K params): train 2.058, val 2.108\n",
    "- context: 3 -> 8 (22K params): train 1.918, val 2.027\n",
    "- wavenet with batchnorm fix : train 1.911, val 2.019\n"
   ]
  },
  {
   "cell_type": "markdown",
   "metadata": {},
   "source": []
  },
  {
   "cell_type": "code",
   "execution_count": null,
   "metadata": {},
   "outputs": [
    {
     "name": "stdout",
     "output_type": "stream",
     "text": [
      "mora.\n",
      "mayah.\n",
      "see.\n",
      "mad.\n",
      "rylla.\n",
      "emmadiendra.\n",
      "gradered.\n",
      "eliah.\n",
      "miloparekelson.\n",
      "ana.\n",
      "selyn.\n",
      "malaia.\n",
      "noshubergiaghanston.\n",
      "jowelle.\n",
      "jetton.\n",
      "kubrey.\n",
      "dariyah.\n",
      "faeh.\n",
      "yuma.\n",
      "myson.\n"
     ]
    }
   ],
   "source": [
    "# sample from the model\n",
    "g = torch.Generator().manual_seed(2147483647 + 10)\n",
    "\n",
    "for _ in range(20):\n",
    "    \n",
    "    out = []\n",
    "    context = [0] * block_size # initialize with all ...\n",
    "    while True:\n",
    "      # forward pass the neural net\n",
    "      logits=model(torch.tensor([context]))\n",
    "      \n",
    "      probs = F.softmax(logits, dim=1)\n",
    "      # sample from the distribution\n",
    "      ix = torch.multinomial(probs, num_samples=1, generator=g).item()\n",
    "      # shift the context window and track the samples\n",
    "      context = context[1:] + [ix]\n",
    "      out.append(ix)\n",
    "      # if we sample the special '.' token, break\n",
    "      if ix == 0:\n",
    "        break\n",
    "    \n",
    "    print(''.join(itos[i] for i in out)) # decode and print the generated word"
   ]
  }
 ],
 "metadata": {
  "kernelspec": {
   "display_name": "Python 3",
   "language": "python",
   "name": "python3"
  },
  "language_info": {
   "codemirror_mode": {
    "name": "ipython",
    "version": 3
   },
   "file_extension": ".py",
   "mimetype": "text/x-python",
   "name": "python",
   "nbconvert_exporter": "python",
   "pygments_lexer": "ipython3",
   "version": "3.10.10"
  }
 },
 "nbformat": 4,
 "nbformat_minor": 4
}
